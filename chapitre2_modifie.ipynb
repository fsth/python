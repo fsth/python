{
 "cells": [
  {
   "cell_type": "markdown",
   "metadata": {},
   "source": [
    "# Calcul matriciel : Opérations élémentaires"
   ]
  },
  {
   "cell_type": "markdown",
   "metadata": {},
   "source": [
    "Soient les matrices $M=\\begin{pmatrix}4&1&6&-9\\\\\n",
    "0&10&4&-1\\\\\n",
    "-3&0&1&1\\\\\n",
    "1&4&6&0\\\\\n",
    "\\end{pmatrix}$ et $N=\\begin{pmatrix}1&0&6&-6\\\\\n",
    "0&3&2&1\\\\\n",
    "-3&0&1&1\\\\\n",
    "7&1&6&1\\\\\n",
    "\\end{pmatrix}$."
   ]
  },
  {
   "cell_type": "markdown",
   "metadata": {},
   "source": [
    "Dans ce paragraphe, une matrices est representée par une liste des liste. Par exemple les matrices $M$ et $N$ seront représentées par :"
   ]
  },
  {
   "cell_type": "markdown",
   "metadata": {},
   "source": [
    "M = [ [4, 1, 6, -9], [0, 10, 4, -1], [-3, 0, 1, 1], [1, 4, 6,0] ] et N = [ [1, 0, 6, -6], [0, 3, 2, 1], [-3, 0, 1, 1], [7, 1, 6, 1] ] "
   ]
  },
  {
   "cell_type": "markdown",
   "metadata": {},
   "source": [
    "## Somme, produit de deux matrices  et produit d'une matrice par un scalaire"
   ]
  },
  {
   "cell_type": "markdown",
   "metadata": {},
   "source": [
    "### Somme, produit de deux matrices et produit d'une matrice par un scalaire sans numpy"
   ]
  },
  {
   "cell_type": "code",
   "execution_count": 1,
   "metadata": {},
   "outputs": [
    {
     "name": "stdout",
     "output_type": "stream",
     "text": [
      "M + N = :  [[5, 1, 12, -15], [0, 13, 6, 0], [-6, 0, 2, 2], [8, 5, 12, 1]]\n"
     ]
    }
   ],
   "source": [
    "def somme(M, N): \n",
    "        n=len(M) # nombre de lignes \n",
    "        m=len(M[0]) # nombre de colonnes \n",
    "        return [[M[i][j] + N[i][j] for j in range(m)] for i in range(n)]\n",
    "M = [ [4, 1, 6, -9], [0, 10, 4, -1], [-3, 0, 1, 1], [1, 4, 6, 0] ] \n",
    "N = [ [1, 0, 6, -6], [0, 3, 2, 1], [-3, 0, 1, 1], [7, 1, 6, 1] ] \n",
    "print(\"M + N = : \", somme(M, N)) # affiche la somme des matrcies M et N\n"
   ]
  },
  {
   "cell_type": "code",
   "execution_count": 2,
   "metadata": {},
   "outputs": [
    {
     "name": "stdout",
     "output_type": "stream",
     "text": [
      "MN = [[-77, -6, -22, -26], [-19, 29, 18, 13], [1, 1, -11, 20], [-17, 12, 20, 4]]\n"
     ]
    }
   ],
   "source": [
    "def produit(M, N):\n",
    "        return [[sum(L[k] * N[k][j] for k in range(len(L))) for j in range(len(N[0]))] for L in M]\n",
    "print(\"MN =\",produit(M,N)) # affiche le produit des matrices M et N"
   ]
  },
  {
   "cell_type": "code",
   "execution_count": 3,
   "metadata": {},
   "outputs": [
    {
     "name": "stdout",
     "output_type": "stream",
     "text": [
      "3N =  [[3, 0, 18, -18], [0, 9, 6, 3], [-9, 0, 3, 3], [21, 3, 18, 3]]\n",
      "0N =  [[0, 0, 0, 0], [0, 0, 0, 0], [0, 0, 0, 0], [0, 0, 0, 0]]\n"
     ]
    }
   ],
   "source": [
    "def prod(a,N) :\n",
    "    N = [[1, 0, 6, -6], [0, 3, 2, 1], [-3, 0, 1, 1], [7, 1, 6, 1] ] \n",
    "    n=len(N) #nombre de lignes\n",
    "    m=len(N[0]) # nombre de colonnes\n",
    "    return [[a*N[i][j] for j in range(m)] for i in range(n)]\n",
    "print(\"3N = \", prod(3,N)) #affiche le produit de N par 3\n",
    "print(\"0N = \", prod(0,N)) #affiche le produit de N par 0"
   ]
  },
  {
   "cell_type": "markdown",
   "metadata": {},
   "source": [
    "### Somme, produit de deux matrices et produit d'une matrice par un scalaire avec numpy"
   ]
  },
  {
   "cell_type": "code",
   "execution_count": 4,
   "metadata": {},
   "outputs": [
    {
     "name": "stdout",
     "output_type": "stream",
     "text": [
      "M+N= [[  5   1  12 -15]\n",
      " [  0  13   6   0]\n",
      " [ -6   0   2   2]\n",
      " [  8   5  12   1]]\n",
      "MN= [[ 4  0 36 54]\n",
      " [ 0 30  8 -1]\n",
      " [ 9  0  1  1]\n",
      " [ 7  4 36  0]]\n",
      "3N= [[  3   0  18 -18]\n",
      " [  0   9   6   3]\n",
      " [ -9   0   3   3]\n",
      " [ 21   3  18   3]]\n"
     ]
    }
   ],
   "source": [
    "import numpy as np \n",
    "M = np.array([ [4, 1, 6, -9], [0, 10, 4, -1], [-3, 0, 1, 1], [1, 4, 6, 0]])\n",
    "N = np.array([ [1, 0, 6, -6], [0, 3, 2, 1], [-3, 0, 1, 1], [7, 1, 6, 1] ])\n",
    "C= M + N\n",
    "D= M*N\n",
    "E=3*N\n",
    "print(\"M+N=\",C)\n",
    "print(\"MN=\",D)\n",
    "print(\"3N=\",E)"
   ]
  },
  {
   "cell_type": "markdown",
   "metadata": {},
   "source": [
    "## Transposée d’une matrice"
   ]
  },
  {
   "cell_type": "markdown",
   "metadata": {},
   "source": [
    "Soit la matrice $A=\\begin{pmatrix}2&3&2&8&5\\\\\n",
    "1&10&5&3&2\\\\\n",
    "1&13&3&3&1\\\\\n",
    "2&4&6&1&14\\\\\n",
    "\\end{pmatrix}$"
   ]
  },
  {
   "cell_type": "markdown",
   "metadata": {},
   "source": [
    "### Transposée d’une matrice sans numpy"
   ]
  },
  {
   "cell_type": "code",
   "execution_count": 5,
   "metadata": {},
   "outputs": [
    {
     "data": {
      "text/plain": [
       "[[2, 1, 1, 2], [3, 10, 13, 4], [2, 5, 3, 6], [8, 3, 3, 1], [5, 2, 1, 14]]"
      ]
     },
     "execution_count": 5,
     "metadata": {},
     "output_type": "execute_result"
    }
   ],
   "source": [
    "def trans(A):\n",
    "        return[[A[j][i] for j in range(len(A))] for i in range(len(A[0]))]\n",
    "A=[[2, 3, 2, 8, 5], [1, 10, 5, 3, 2], [1, 13, 3, 3, 1], [2, 4, 6, 1, 14] ] \n",
    "trans(A) # affiche la transposée de la matrice A"
   ]
  },
  {
   "cell_type": "markdown",
   "metadata": {},
   "source": [
    "### Transposée d’une matrice avec numpy"
   ]
  },
  {
   "cell_type": "code",
   "execution_count": 6,
   "metadata": {},
   "outputs": [
    {
     "name": "stdout",
     "output_type": "stream",
     "text": [
      "[[ 2  1  1  2]\n",
      " [ 3 10 13  4]\n",
      " [ 2  5  3  6]\n",
      " [ 8  3  3  1]\n",
      " [ 5  2  1 14]]\n"
     ]
    }
   ],
   "source": [
    "import numpy as np\n",
    "A = np.array([[2, 3, 2, 8, 5], [1, 10, 5, 3, 2], [1, 13, 3, 3, 1], [2, 4, 6, 1, 14]])\n",
    "print(A.transpose()) #affiche la transposée de la matrice A"
   ]
  },
  {
   "cell_type": "markdown",
   "metadata": {},
   "source": [
    "## Les opération élémentaires sur les lignes "
   ]
  },
  {
   "cell_type": "markdown",
   "metadata": {},
   "source": [
    "### L'opération $l_i\\leftarrow l_j$"
   ]
  },
  {
   "cell_type": "code",
   "execution_count": 7,
   "metadata": {},
   "outputs": [
    {
     "data": {
      "text/plain": [
       "[[3, 2, 0, 2, 8], [1, -6, 4, 5, 2], [5, 6, 7, -11, 5]]"
      ]
     },
     "execution_count": 7,
     "metadata": {},
     "output_type": "execute_result"
    }
   ],
   "source": [
    "def echange_lignes(M, i, j):\n",
    "        M[i], M[j] = M[j], M[i] \n",
    "        return M \n",
    "M=M=[[1, -6, 4, 5, 2], [3, 2, 0, 2, 8], [5, 6, 7, -11, 5]]\n",
    "echange_lignes(M, 0, 1) # echanger la ligne 1 avec la ligne 2"
   ]
  },
  {
   "cell_type": "markdown",
   "metadata": {},
   "source": [
    "### L'opération élémentaire  $l_i\\leftarrow \\lambda l_i$"
   ]
  },
  {
   "cell_type": "code",
   "execution_count": 8,
   "metadata": {},
   "outputs": [
    {
     "name": "stdout",
     "output_type": "stream",
     "text": [
      "[[1, -6, 4, 5, 2], [3, 2, 0, 2, 8], [5, 6, 7, -11, 5]]\n"
     ]
    },
    {
     "data": {
      "text/plain": [
       "[[6, -36, 24, 30, 12], [3, 2, 0, 2, 8], [5, 6, 7, -11, 5]]"
      ]
     },
     "execution_count": 8,
     "metadata": {},
     "output_type": "execute_result"
    }
   ],
   "source": [
    "def multip_ligne(M, i, λ): \n",
    "        M[i] = [coeff * λ for coeff in M[i]] \n",
    "        return M \n",
    "M=[[1, -6, 4, 5, 2], [3, 2, 0, 2, 8], [5, 6, 7, -11, 5]] \n",
    "print(M) #affiche la matrice M\n",
    "multip_ligne(M, 0, 6) #remplacer la ligne 1 par son produit par 6 "
   ]
  },
  {
   "cell_type": "markdown",
   "metadata": {},
   "source": [
    "### L'opération élémentaire $l_i\\leftarrow l_i+\\lambda l_j$"
   ]
  },
  {
   "cell_type": "code",
   "execution_count": 9,
   "metadata": {},
   "outputs": [
    {
     "data": {
      "text/plain": [
       "[[1, -6, 4, 5, 2], [43, 50, 56, -86, 48], [5, 6, 7, -11, 5]]"
      ]
     },
     "execution_count": 9,
     "metadata": {},
     "output_type": "execute_result"
    }
   ],
   "source": [
    "def transvection(M, i, j, λ): \n",
    "        M[i] = [M[i][k] + λ * M[j][k] for k in range(len(M[i]))] \n",
    "        return M \n",
    "M=[[1, -6, 4, 5, 2], [3, 2, 0, 2, 8], [5, 6, 7, -11, 5]] \n",
    "transvection(M, 1, 2, 8) #remplacer la ligne 2 par la somme de la ligne 2 et la ligne 3 multipliée par 8"
   ]
  },
  {
   "cell_type": "code",
   "execution_count": null,
   "metadata": {},
   "outputs": [],
   "source": []
  }
 ],
 "metadata": {
  "kernelspec": {
   "display_name": "Python 3",
   "language": "python",
   "name": "python3"
  },
  "language_info": {
   "codemirror_mode": {
    "name": "ipython",
    "version": 3
   },
   "file_extension": ".py",
   "mimetype": "text/x-python",
   "name": "python",
   "nbconvert_exporter": "python",
   "pygments_lexer": "ipython3",
   "version": "3.7.4"
  },
  "toc": {
   "base_numbering": 1,
   "nav_menu": {},
   "number_sections": true,
   "sideBar": true,
   "skip_h1_title": false,
   "title_cell": "Table of Contents",
   "title_sidebar": "Contents",
   "toc_cell": false,
   "toc_position": {},
   "toc_section_display": true,
   "toc_window_display": false
  }
 },
 "nbformat": 4,
 "nbformat_minor": 2
}
