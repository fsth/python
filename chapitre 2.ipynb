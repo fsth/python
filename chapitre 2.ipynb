{
 "cells": [
  {
   "cell_type": "markdown",
   "metadata": {},
   "source": [
    "# La somme de deux matrices "
   ]
  },
  {
   "cell_type": "code",
   "execution_count": 1,
   "metadata": {},
   "outputs": [
    {
     "data": {
      "text/plain": [
       "[[5, 1, 12, -15], [0, 13, 6, 0], [-6, 0, 2, 2], [8, 5, 12, 1]]"
      ]
     },
     "execution_count": 1,
     "metadata": {},
     "output_type": "execute_result"
    }
   ],
   "source": [
    " def somme(M, N): \n",
    "        n=len(M) # nombre de lignes \n",
    "        m=len(M[0]) # nombre de colonnes \n",
    "        return [[M[i][j] + N[i][j] for j in range(m)] for i in range(n)]\n",
    "M = [ [4, 1, 6, -9], [0, 10, 4, -1], [-3, 0, 1, 1], [1, 4, 6, 0] ] \n",
    "N = [ [1, 0, 6, -6], [0, 3, 2, 1], [-3, 0, 1, 1], [7, 1, 6, 1] ] \n",
    "somme(M, N)"
   ]
  },
  {
   "cell_type": "markdown",
   "metadata": {},
   "source": [
    "# La somme de deux matrices avec numpy"
   ]
  },
  {
   "cell_type": "code",
   "execution_count": 2,
   "metadata": {},
   "outputs": [
    {
     "name": "stdout",
     "output_type": "stream",
     "text": [
      "M :  [[ 1  0  6 -6]\n",
      " [ 0  3  2  1]\n",
      " [-3  0  1  1]\n",
      " [ 7  1  6  1]]\n",
      "M :  [[ 1  0  6 -6]\n",
      " [ 0  3  2  1]\n",
      " [-3  0  1  1]\n",
      " [ 7  1  6  1]]\n",
      "M + N :  [[  5   1  12 -15]\n",
      " [  0  13   6   0]\n",
      " [ -6   0   2   2]\n",
      " [  8   5  12   1]]\n"
     ]
    }
   ],
   "source": [
    "import numpy as np \n",
    "M = np.array([ [4, 1, 6, -9], [0, 10, 4, -1], [-3, 0, 1, 1], [1, 4, 6, 0]])\n",
    "N = np.array([ [1, 0, 6, -6], [0, 3, 2, 1], [-3, 0, 1, 1], [7, 1, 6, 1] ])\n",
    "C= M + N\n",
    "print(\"M : \", N) \n",
    "print(\"M : \", N) \n",
    "print(\"M + N : \", C)"
   ]
  },
  {
   "cell_type": "markdown",
   "metadata": {},
   "source": [
    "# Le produit matriciel"
   ]
  },
  {
   "cell_type": "code",
   "execution_count": 3,
   "metadata": {},
   "outputs": [
    {
     "data": {
      "text/plain": [
       "[[-37, 21, 19, 22, 40],\n",
       " [37, 49, 14, 15, 18],\n",
       " [-28, 50, 28, 6, 12],\n",
       " [90, 134, 42, 38, 42],\n",
       " [64, 78, 22, 12, 4]]"
      ]
     },
     "execution_count": 3,
     "metadata": {},
     "output_type": "execute_result"
    }
   ],
   "source": [
    "def produit(A, B):\n",
    "        return [[sum(L[k] * B[k][j] for k in range(len(L))) for j in range(len(B[0]))] for L in A]\n",
    "A = [[3, 1, 12, -4], [2,0 , 4, 3], [-2, 0, 11, 3], [4 ,2 , 10, 8], [0 ,2 , 1, 7]]\n",
    "B = [[11, 5, 0, 4, 5], [2, 6, 3, 2, 1], [-3 , 3, 2, 1, 2], [9, 9, 2, 1, 0]]\n",
    "produit(A, B)"
   ]
  },
  {
   "cell_type": "markdown",
   "metadata": {},
   "source": [
    "# Le produit matriciel avec numpy"
   ]
  },
  {
   "cell_type": "code",
   "execution_count": 4,
   "metadata": {},
   "outputs": [
    {
     "name": "stdout",
     "output_type": "stream",
     "text": [
      "A :  [[ 3  1 12 -4]\n",
      " [ 2  0  4  3]\n",
      " [-2  0 11  3]\n",
      " [ 4  2 10  8]\n",
      " [ 0  2  1  7]]\n",
      "B :  [[11  5  0  4  5]\n",
      " [ 2  6  3  2  1]\n",
      " [-3  3  2  1  2]\n",
      " [ 9  9  2  1  0]]\n",
      "A * B :  [[-37  21  19  22  40]\n",
      " [ 37  49  14  15  18]\n",
      " [-28  50  28   6  12]\n",
      " [ 90 134  42  38  42]\n",
      " [ 64  78  22  12   4]]\n"
     ]
    }
   ],
   "source": [
    "import numpy as np\n",
    "A = np.array([ [3, 1, 12, -4], [2,0 , 4, 3], [-2, 0, 11, 3], [4 ,2 , 10, 8], [0 ,2 , 1, 7] ])\n",
    "B = np.array([ [11, 5, 0, 4, 5], [2, 6, 3, 2, 1], [-3 , 3, 2, 1, 2], [9, 9, 2, 1, 0] ])\n",
    "C = A.dot(B)\n",
    "print(\"A : \", A) \n",
    "print(\"B : \", B) \n",
    "print(\"A * B : \", C)"
   ]
  },
  {
   "cell_type": "markdown",
   "metadata": {},
   "source": [
    "# Transposition d’une matrice "
   ]
  },
  {
   "cell_type": "code",
   "execution_count": 5,
   "metadata": {},
   "outputs": [
    {
     "data": {
      "text/plain": [
       "[[2, 1, 1, 2], [3, 10, 13, 4], [2, 5, 3, 6], [8, 3, 3, 1], [5, 2, 1, 14]]"
      ]
     },
     "execution_count": 5,
     "metadata": {},
     "output_type": "execute_result"
    }
   ],
   "source": [
    "def trnsps(A):\n",
    "        return[[A[j][i] for j in range(len(A))] for i in range(len(A[0]))]\n",
    "A=[[2, 3, 2, 8, 5], [1, 10, 5, 3, 2], [1, 13, 3, 3, 1], [2, 4, 6, 1, 14] ] \n",
    "trnsps(A)"
   ]
  },
  {
   "cell_type": "markdown",
   "metadata": {},
   "source": [
    "# Transposition d’une matrice avec numpy"
   ]
  },
  {
   "cell_type": "code",
   "execution_count": 6,
   "metadata": {},
   "outputs": [
    {
     "name": "stdout",
     "output_type": "stream",
     "text": [
      "A :  [[ 2  3  2  8  5]\n",
      " [ 1 10  5  3  2]\n",
      " [ 1 13  3  3  1]\n",
      " [ 2  4  6  1 14]]\n",
      "Transposée de A :  [[ 2  1  1  2]\n",
      " [ 3 10 13  4]\n",
      " [ 2  5  3  6]\n",
      " [ 8  3  3  1]\n",
      " [ 5  2  1 14]]\n"
     ]
    }
   ],
   "source": [
    "import numpy as np\n",
    "A = np.array([[2, 3, 2, 8, 5], [1, 10, 5, 3, 2], [1, 13, 3, 3, 1], [2, 4, 6, 1, 14]])\n",
    "C = A.transpose()\n",
    "print(\"A : \", A) \n",
    "print(\"Transposée de A : \", C)"
   ]
  },
  {
   "cell_type": "markdown",
   "metadata": {},
   "source": [
    "# L'opération $l_i\\leftarrow \\lambda l_i$"
   ]
  },
  {
   "cell_type": "code",
   "execution_count": 7,
   "metadata": {},
   "outputs": [
    {
     "data": {
      "text/plain": [
       "[[6, -36, 24, 30, 12], [3, 2, 0, 2, 8], [5, 6, 7, -11, 5]]"
      ]
     },
     "execution_count": 7,
     "metadata": {},
     "output_type": "execute_result"
    }
   ],
   "source": [
    " def multip_ligne(M, i, l): \n",
    "        M[i] = [coeff * l for coeff in M[i]] \n",
    "        return M \n",
    "M=[[1, -6, 4, 5, 2], [3, 2, 0, 2, 8], [5, 6, 7, -11, 5]] \n",
    "multip_ligne(M, 0, 6)"
   ]
  },
  {
   "cell_type": "markdown",
   "metadata": {},
   "source": [
    "# L'opération $l_i\\leftarrow l_i+\\lambda l_j$"
   ]
  },
  {
   "cell_type": "code",
   "execution_count": 8,
   "metadata": {},
   "outputs": [
    {
     "data": {
      "text/plain": [
       "[[1, -6, 4, 5, 2], [43, 50, 56, -86, 48], [5, 6, 7, -11, 5]]"
      ]
     },
     "execution_count": 8,
     "metadata": {},
     "output_type": "execute_result"
    }
   ],
   "source": [
    " def transvection(M, i, j, l): \n",
    "        M[i] = [M[i][k] + l * M[j][k] for k in range(len(M[i]))] \n",
    "        return M \n",
    "M=[[1, -6, 4, 5, 2], [3, 2, 0, 2, 8], [5, 6, 7, -11, 5]] \n",
    "transvection(M, 1, 2, 8)"
   ]
  },
  {
   "cell_type": "markdown",
   "metadata": {},
   "source": [
    "# L'opération $l_i\\leftarrow l_j$"
   ]
  },
  {
   "cell_type": "code",
   "execution_count": 9,
   "metadata": {},
   "outputs": [
    {
     "data": {
      "text/plain": [
       "[[3, 2, 0, 2, 8], [1, -6, 4, 5, 2], [5, 6, 7, -11, 5]]"
      ]
     },
     "execution_count": 9,
     "metadata": {},
     "output_type": "execute_result"
    }
   ],
   "source": [
    "def echange_lignes(M, i, j):\n",
    "        M[i], M[j] = M[j], M[i] \n",
    "        return M \n",
    "M=M=[[1, -6, 4, 5, 2], [3, 2, 0, 2, 8], [5, 6, 7, -11, 5]]\n",
    "echange_lignes(M, 0, 1)"
   ]
  },
  {
   "cell_type": "markdown",
   "metadata": {},
   "source": [
    "#  Résolution des systèmes linéaires avec pivot de Gauss"
   ]
  },
  {
   "cell_type": "code",
   "execution_count": 10,
   "metadata": {},
   "outputs": [
    {
     "data": {
      "text/plain": [
       "[1.0, 2.0, 3.0]"
      ]
     },
     "execution_count": 10,
     "metadata": {},
     "output_type": "execute_result"
    }
   ],
   "source": [
    "def echange_ligne_bis(A,i,j): # On applique l'opération élémentaire Li <-> Lj à la matrice A \n",
    "    temp = A[i] \n",
    "    A[i] = A[j]\n",
    "    A[j] = temp\n",
    "    \n",
    "def transvection(A,i,j,mu): #On applique l'opération élémentaire Li <-Li + mu*Lj à la matrice A \n",
    "    if type(A[0]) != list: \n",
    "        A[i] = A[i] + mu*A[j] \n",
    "    else: \n",
    "        n = len(A[0]) \n",
    "        for k in range(n): \n",
    "            A[i][k] = A[i][k] + mu*A[j][k]\n",
    "            \n",
    "def pivot_partiel(A, j0): # la fonction qui recherche le pivot maximal \n",
    "    n = len(A) \n",
    "    imax = j0 \n",
    "    for i in range(j0+1, n):\n",
    "        if abs(A[i][j0]) > abs(A[imax][j0]): \n",
    "            imax = i \n",
    "    return imax\n",
    "\n",
    "def solution_triangle(A,b): #fonction triangle qui résoud les systèmes triangulaires supérieurs.\n",
    "    n =len(b) \n",
    "    x = [0 for i in range(n)] \n",
    "    x[n-1] = b[n-1]/A[n-1][n-1] \n",
    "    for i in range(n-2,-1,-1): \n",
    "        s = 0\n",
    "        for j in range(i+1,n): \n",
    "            s = s + A[i][j]*x[j] \n",
    "        x[i] = (b[i] - s)/ A[i][i] \n",
    "    return x\n",
    "\n",
    "#On Recolle les morceaux \n",
    "import copy \n",
    "def solution_systeme(A0,b0): \n",
    "    A,b = copy.deepcopy(A0), copy.deepcopy(b0) \n",
    "    n = len(A)\n",
    "    for j in range(n-1):\n",
    "        i0 = pivot_partiel(A,j) \n",
    "        echange_ligne_bis(A,j,i0) \n",
    "        echange_ligne_bis(b,j,i0) \n",
    "        for i in range(j+1,n): \n",
    "            x = A[i][j]/A[j][j] \n",
    "            transvection(A,i,j,-x) \n",
    "            transvection(b,i,j,-x)\n",
    "    return solution_triangle(A,b)\n",
    "A = [ [2,3,-1], [4,4,-3], [-2,3,-1] ] \n",
    "b = [5,3,1] \n",
    "solution_systeme(A,b)\n"
   ]
  },
  {
   "cell_type": "markdown",
   "metadata": {},
   "source": [
    "# Résolution des systèmes linéaires avec numpy"
   ]
  },
  {
   "cell_type": "code",
   "execution_count": 11,
   "metadata": {},
   "outputs": [
    {
     "data": {
      "text/plain": [
       "array([1., 2., 3.])"
      ]
     },
     "execution_count": 11,
     "metadata": {},
     "output_type": "execute_result"
    }
   ],
   "source": [
    "import numpy as np \n",
    "from numpy import linalg as la\n",
    "A = np.array([[2, 3, -1], [4, 4, -3], [-2, 3, -1]])\n",
    "b = np.array([5, 3, 1]) \n",
    "la.solve(A, b) # La résolution du système AX=b"
   ]
  },
  {
   "cell_type": "markdown",
   "metadata": {},
   "source": [
    "# Déterminant d'une matrice avec numpy"
   ]
  },
  {
   "cell_type": "code",
   "execution_count": 12,
   "metadata": {},
   "outputs": [
    {
     "data": {
      "text/plain": [
       "19.999999999999996"
      ]
     },
     "execution_count": 12,
     "metadata": {},
     "output_type": "execute_result"
    }
   ],
   "source": [
    "# Le module numpy.linalg contient aussi une fonction det pour calculer le déterminant \n",
    "la.det(A) # Le Calcule du detrminant de A"
   ]
  },
  {
   "cell_type": "markdown",
   "metadata": {},
   "source": [
    "# L'inverse d'une matrice avec numpy"
   ]
  },
  {
   "cell_type": "code",
   "execution_count": 13,
   "metadata": {},
   "outputs": [
    {
     "data": {
      "text/plain": [
       "array([[ 2.50000000e-01,  5.55111512e-17, -2.50000000e-01],\n",
       "       [ 5.00000000e-01, -2.00000000e-01,  1.00000000e-01],\n",
       "       [ 1.00000000e+00, -6.00000000e-01, -2.00000000e-01]])"
      ]
     },
     "execution_count": 13,
     "metadata": {},
     "output_type": "execute_result"
    }
   ],
   "source": [
    "# Le module numpy.linalg contient en outre une fonction inv pour calculer 'inverse d'une matrice \n",
    "la.inv(A) # Le Calcul de l'inverse de A  "
   ]
  },
  {
   "cell_type": "markdown",
   "metadata": {},
   "source": [
    "# Les valeurs propres et les vecteurs propres avec numpy"
   ]
  },
  {
   "cell_type": "code",
   "execution_count": 14,
   "metadata": {},
   "outputs": [
    {
     "name": "stdout",
     "output_type": "stream",
     "text": [
      "Les valeurs propres sont:  [-4.  2.  1.]\n",
      "Les vecteurs propres sont:  [[ 0.48507125 -0.74278135  0.57735027]\n",
      " [-0.72760688 -0.55708601  0.57735027]\n",
      " [ 0.48507125  0.37139068  0.57735027]]\n"
     ]
    }
   ],
   "source": [
    "import numpy as np \n",
    "from numpy.linalg import eig\n",
    "A = np.array([[ 0, 2, -1 ], [3, -2, 0], [-2, 2, 1]]) \n",
    "val_p, vect_p = eig(A)\n",
    "\n",
    "#Les colonnes de vect_p sont les vecteurs propres de A associés aux valeurs propres qui apparaissent dans val_p. \n",
    "print(\"Les valeurs propres sont: \" ,val_p) \n",
    "print(\"Les vecteurs propres sont: \" ,vect_p)"
   ]
  },
  {
   "cell_type": "markdown",
   "metadata": {},
   "source": [
    "# Résolution numérique de l’équation f(x)=0 avec dichotomie"
   ]
  },
  {
   "cell_type": "code",
   "execution_count": 15,
   "metadata": {},
   "outputs": [
    {
     "data": {
      "text/plain": [
       "(0.3574029505252838, 23)"
      ]
     },
     "execution_count": 15,
     "metadata": {},
     "output_type": "execute_result"
    }
   ],
   "source": [
    "#Tout d'abord on définit une fonction f (ici par exemple f (x) = exp(x)-4x) \n",
    "import math \n",
    "def f(x):\n",
    "    return math.exp(x)-4*x\n",
    "\n",
    "def dichotomie(f, a, b, eps): # La fonction de l'Algorithme de dichotomie \n",
    "    n=0 \n",
    "    while abs(b-a) > eps:\n",
    "        c = (a + b) / 2 \n",
    "        if f(a) * f(c) <= 0:\n",
    "            b = c \n",
    "        else: \n",
    "            a = c \n",
    "        n=n+1\n",
    "    return ((a+b) / 2, n)\n",
    "\n",
    "#Testons avec notre exemple\n",
    "dichotomie(f, 0, 1/2, 10**(-7))"
   ]
  },
  {
   "cell_type": "markdown",
   "metadata": {},
   "source": [
    "# Résolution numérique de l’équation f(x)=0 avec Newton"
   ]
  },
  {
   "cell_type": "code",
   "execution_count": 16,
   "metadata": {},
   "outputs": [
    {
     "name": "stdout",
     "output_type": "stream",
     "text": [
      "x0: 0\n",
      "(x , n) = (0.3574029508790747, 7)\n"
     ]
    }
   ],
   "source": [
    "from scipy import misc # Pour dériver une fonction, on utilise la, commande derivative(f,x0) de la bibliothèque scipy.misc. \n",
    "import math\n",
    "def Newton(f,x0,epsilon=10**(-7)): # La définition de la fonction de Newton \n",
    "    x = x0 \n",
    "    n=0 \n",
    "    while abs(f(x)) > epsilon: # Tant que |f(x)| > epsilon choisi\n",
    "        x = x - f(x) / misc.derivative(f, x) # On trouve la nouvelle valeur de x1 \n",
    "        n=n+1 \n",
    "    return (x,n) # Renvoie de la valeur finale\n",
    "\n",
    "#Testons la fonction Newton avec notre exemple\n",
    "def f(x): # On définit tout d'abord la fonction f (x) = exp(x)-4x\n",
    "    return math.exp(x)-4*x\n",
    "x0=0 \n",
    "x = Newton(f, x0) \n",
    "print('x0:', x0)\n",
    "print('(x , n) =' ,x)"
   ]
  },
  {
   "cell_type": "markdown",
   "metadata": {},
   "source": [
    "# La méthode de Newton avec scipy"
   ]
  },
  {
   "cell_type": "code",
   "execution_count": 17,
   "metadata": {},
   "outputs": [
    {
     "name": "stdout",
     "output_type": "stream",
     "text": [
      "x0:  0\n",
      "x:  0.35740295618136475\n"
     ]
    }
   ],
   "source": [
    "#La méthode de newton est en faite déjà présente dans le module scipy \n",
    "from scipy.optimize import newton\n",
    "\n",
    "def f(x): \n",
    "    return math.exp(x)-4*x\n",
    "\n",
    "x0 = 0\n",
    "\n",
    "x = newton(f, x0, fprime=None, args=(), tol=1.48e-08, maxiter=50,fprime2=None)\n",
    "\n",
    "print('x0: ', x0) \n",
    "print('x: ', x)"
   ]
  },
  {
   "cell_type": "markdown",
   "metadata": {},
   "source": [
    "# Résolution numérique de l’équation f(x)=0 avec scipy"
   ]
  },
  {
   "cell_type": "code",
   "execution_count": 18,
   "metadata": {},
   "outputs": [
    {
     "data": {
      "text/plain": [
       "array([0.35740296])"
      ]
     },
     "execution_count": 18,
     "metadata": {},
     "output_type": "execute_result"
    }
   ],
   "source": [
    "import scipy.optimize as resol \n",
    "import math\n",
    "def f(x): \n",
    "    return math.exp(x)-4*x \n",
    "g = lambda x: f(x) \n",
    "x0 = resol.fsolve(g, 10^(-7)) \n",
    "x0"
   ]
  },
  {
   "cell_type": "markdown",
   "metadata": {},
   "source": [
    "#  Résolution numérique d’équations différentielles (Euler)"
   ]
  },
  {
   "cell_type": "code",
   "execution_count": 33,
   "metadata": {},
   "outputs": [
    {
     "name": "stdout",
     "output_type": "stream",
     "text": [
      "Le temps  [0, 0.2, 0.4, 0.6000000000000001, 0.8, 1.0]\n",
      "Les solution  [1, 1.2, 1.4352159786818979, 1.6996002698686123, 1.9801483966351456, 2.2560649313228933]\n"
     ]
    }
   ],
   "source": [
    "import math \n",
    "def euler(F, t0,tf,y0, n):\n",
    "#Données: F(y,t) une fonction, t0 et t1 deux réels avec t0 < t1, y0 un réel et n un entier.\n",
    "\n",
    "    h = (tf-t0)/n # cette quantité est le pas. \n",
    "    y = y0 \n",
    "    t = t0 \n",
    "    Y = [y0] \n",
    "    T = [t0] \n",
    "    for k in range(n): # n itérations donc n+1 points.\n",
    "        y = y + h*F(t,y) \n",
    "        t = t + h \n",
    "        Y.append(y) \n",
    "        T.append(t) \n",
    "    return T,Y \n",
    "# Appliquons notre fonction euler avec l'exemple y'= cos(t) y et y(0) = 1 \n",
    "def F(t,y): # On définit tout d'abord la fonction F(t,y) \n",
    "    return math.cos(t)*y \n",
    "y0 = 1 \n",
    "n = 5 # On a pris ici seulement n = 5. \n",
    "T5,Y5 = euler(F,0,1,y0,n) \n",
    "print('Le temps ',T5)\n",
    "print('Les solution ',Y5)"
   ]
  },
  {
   "cell_type": "markdown",
   "metadata": {},
   "source": [
    "# Résolution numérique d’équations différentielles avec scipy"
   ]
  },
  {
   "cell_type": "code",
   "execution_count": 20,
   "metadata": {},
   "outputs": [
    {
     "data": {
      "text/plain": [
       "array([[1.        ],\n",
       "       [1.11751906],\n",
       "       [1.24884886],\n",
       "       [1.39561243],\n",
       "       [1.55962349],\n",
       "       [1.742909  ],\n",
       "       [1.94773405],\n",
       "       [2.17663003],\n",
       "       [2.43242551],\n",
       "       [2.7182819 ]])"
      ]
     },
     "execution_count": 20,
     "metadata": {},
     "output_type": "execute_result"
    }
   ],
   "source": [
    "import matplotlib.pyplot as plt \n",
    "import numpy as np \n",
    "from scipy.integrate import odeint\n",
    "\n",
    "# On précise notre constante a=1 \n",
    "a=1 \n",
    "# On crée la liste des temps : 10 points entre t=0 et t=1.\n",
    "# Plus on met de points plus la résolution sera précise \n",
    "temps = np.linspace(0, 1, 10)\n",
    "\n",
    "# L'équation différentielle sous forme de fonction : \n",
    "def F(Y,temps):\n",
    "    return a*Y\n",
    "\n",
    "#On résout notre équation différentielle et on récupère la liste des résultats \n",
    "Y=odeint(F, 1, temps)\n",
    "# On résout l'équation différentielle avec odeint( fonction, condition_initiale_y0, temps) \n",
    "Y # On affiche le résultat des Y en fonction du temps"
   ]
  },
  {
   "cell_type": "code",
   "execution_count": 21,
   "metadata": {},
   "outputs": [
    {
     "data": {
      "image/png": "[encoded data removed]",
      "text/plain": [
       "<Figure size 432x288 with 1 Axes>"
      ]
     },
     "metadata": {
      "needs_background": "light"
     },
     "output_type": "display_data"
    }
   ],
   "source": [
    "# On peut tracer la solution obtenue \n",
    "plt.plot(temps,Y) \n",
    "plt.show()"
   ]
  },
  {
   "cell_type": "markdown",
   "metadata": {},
   "source": [
    "# Résolution numérique des systèmes différentiels"
   ]
  },
  {
   "cell_type": "code",
   "execution_count": 22,
   "metadata": {},
   "outputs": [
    {
     "data": {
      "text/plain": [
       "array([[ 6.        ,  4.        ],\n",
       "       [ 5.70271818,  4.07479812],\n",
       "       [ 5.4126375 ,  4.13880408],\n",
       "       ...,\n",
       "       [10.1347653 ,  1.67803813],\n",
       "       [10.08810269,  1.78392959],\n",
       "       [10.01982587,  1.89541374]])"
      ]
     },
     "execution_count": 22,
     "metadata": {},
     "output_type": "execute_result"
    }
   ],
   "source": [
    "import matplotlib.pyplot as plt \n",
    "import numpy as np \n",
    "from scipy.integrate import odeint\n",
    "\n",
    "# On crée la liste des temps : 1000 points entre t0=0 et tf=10.\n",
    "# Plus on met de points plus la résolution sera précise \n",
    "t = np.linspace(0, 10, 1000)\n",
    "\n",
    "# Le système différentiel sous forme de fonction : \n",
    "def F(X,t): \n",
    "    x,y = X \n",
    "    return (x*(3-2*y),y*(x-4))\n",
    "#On résout notre système différentiel \n",
    "solution = odeint(F,[6,4],t)\n",
    "solution"
   ]
  },
  {
   "cell_type": "code",
   "execution_count": 23,
   "metadata": {},
   "outputs": [
    {
     "data": {
      "image/png": "[encoded data removed]",
      "text/plain": [
       "<Figure size 432x288 with 1 Axes>"
      ]
     },
     "metadata": {
      "needs_background": "light"
     },
     "output_type": "display_data"
    }
   ],
   "source": [
    "# La première colonne correspond aux valeurs de x(t) et la deuxième aux valeurs de y(t).\n",
    "# On récupère ces deux colonnes avec du slicing. \n",
    "première_colonne = solution[ :, 0] \n",
    "deuxième_colonne = solution[ :, 1] \n",
    "# On peut tracer la solution obtenue :\n",
    "# Couleur spécifiée par son nom, ligne solide \n",
    "plt.plot(t, première_colonne , color='blue', linestyle='solid', label='bleu')  \n",
    "# Couleur spécifié en RGB, avec des points \n",
    "plt.plot(t, deuxième_colonne, color='#FF0000', linestyle='dotted', label='rouge') \n",
    "plt.legend() \n",
    "# Les labels\n",
    "plt.title(\"Le graphe du premier système\") \n",
    "plt.show()"
   ]
  },
  {
   "cell_type": "code",
   "execution_count": 24,
   "metadata": {},
   "outputs": [
    {
     "data": {
      "image/png": "[encoded data removed]",
      "text/plain": [
       "<Figure size 432x288 with 1 Axes>"
      ]
     },
     "metadata": {
      "needs_background": "light"
     },
     "output_type": "display_data"
    }
   ],
   "source": [
    "# Portrait de phase \n",
    "plt.plot(première_colonne, deuxième_colonne) \n",
    "plt.show()"
   ]
  },
  {
   "cell_type": "code",
   "execution_count": 25,
   "metadata": {},
   "outputs": [
    {
     "data": {
      "text/plain": [
       "array([[ 1.00000000e+00,  2.00000000e+00],\n",
       "       [ 9.88024241e-01,  2.01199403e+00],\n",
       "       [ 9.76121699e-01,  2.02395232e+00],\n",
       "       ...,\n",
       "       [-1.89509545e-09,  4.65043699e+01],\n",
       "       [-1.19785188e-09,  4.66442326e+01],\n",
       "       [-6.07984808e-10,  4.67845159e+01]])"
      ]
     },
     "execution_count": 25,
     "metadata": {},
     "output_type": "execute_result"
    }
   ],
   "source": [
    "# Testons le Système (S2)\n",
    "# On crée la liste des temps : 1000 points entre t0=0 et tf=3.\n",
    "# Plus on met de points plus la résolution sera précise \n",
    "t = np.linspace(0, 3, 1000)\n",
    "\n",
    "# Le système différentiel sous forme de fonction : \n",
    "def F(X,t):\n",
    "    x,y = X \n",
    "    return (x*-2*y,2*x+y)\n",
    "\n",
    "#On résout notre système différentiel \n",
    "solution = odeint(F,[1,2],t) \n",
    "solution"
   ]
  },
  {
   "cell_type": "code",
   "execution_count": 26,
   "metadata": {},
   "outputs": [
    {
     "data": {
      "image/png": "[encoded data removed]",
      "text/plain": [
       "<Figure size 432x288 with 1 Axes>"
      ]
     },
     "metadata": {
      "needs_background": "light"
     },
     "output_type": "display_data"
    }
   ],
   "source": [
    "# La première colonne correspond aux valeurs de x(t) et la deuxième aux valeurs de y(t).\n",
    "# On récupère ces deux colonnes avec du slicing. \n",
    "première_colonne = solution[ :, 0] \n",
    "deuxième_colonne = solution[ :, 1]\n",
    "# On peut tracer la solution obtenue : \n",
    "# Couleur spécifiée par son nom, ligne avec des traits\n",
    "plt.plot(t, première_colonne, color='red', linestyle='dashed', label='rouge') \n",
    "# Couleur spécifié en RGB, avec des points \n",
    "plt.plot(t, deuxième_colonne, color='blue', linestyle='solid', label='bleu') \n",
    "plt.legend()\n",
    "# Les labels \n",
    "plt.title(\"Graphe du deuxième système\") \n",
    "plt.show()"
   ]
  },
  {
   "cell_type": "code",
   "execution_count": 27,
   "metadata": {},
   "outputs": [
    {
     "data": {
      "image/png": "[encoded data removed]",
      "text/plain": [
       "<Figure size 432x288 with 1 Axes>"
      ]
     },
     "metadata": {
      "needs_background": "light"
     },
     "output_type": "display_data"
    }
   ],
   "source": [
    "# Portrait de phase \n",
    "plt.plot(première_colonne, deuxième_colonne)\n",
    "plt.show()"
   ]
  },
  {
   "cell_type": "markdown",
   "metadata": {},
   "source": [
    "# Calcul numérique d’intégrales avec la méthode des rectangles"
   ]
  },
  {
   "cell_type": "code",
   "execution_count": 28,
   "metadata": {},
   "outputs": [
    {
     "name": "stdout",
     "output_type": "stream",
     "text": [
      "La valeur approchée de l'integrale est  -5.695206740625083\n",
      "Voilà le graphe\n"
     ]
    },
    {
     "data": {
      "image/png": "[encoded data removed]",
      "text/plain": [
       "<Figure size 432x288 with 1 Axes>"
      ]
     },
     "metadata": {
      "needs_background": "light"
     },
     "output_type": "display_data"
    }
   ],
   "source": [
    "# Calcul de l'intégrale de x*cos(x) entre 0 et 3pi/2 par la méthode des rectangles (subdivision en 20 pas).\n",
    "import numpy as np \n",
    "import matplotlib.pyplot as plt\n",
    "def rectangles(f, a, b, n): # La définition de la fonction rectangles\n",
    "    largeur = (b-a)/n\n",
    "    integrale = 0 # Variable stockant la somme des aires \n",
    "    for i in range(1, n): \n",
    "        hauteur = f(a + i*(b-a)/n) \n",
    "        aire = largeur * hauteur \n",
    "        integrale += aire \n",
    "    return integrale\n",
    "\n",
    "# Testons notre fonction rectangles avec f(x)=x*cos(x)\n",
    "def f(x): # On définit tout d'abord la fonction f \n",
    "    return np.cos(x)*x \n",
    "a = 0 # Borne d'intégration inférieure\n",
    "b = 3*np.pi/2 # Borne d'intégration supérieure\n",
    "n = 20 # Nombre de subdivisions \n",
    "print(\"La valeur approchée de l'integrale est \" ,rectangles(f, a, b,n))\n",
    "\n",
    "# On trace le graphe \n",
    "x = np.linspace(a, b, n) \n",
    "y = f(x)\n",
    "plt.plot(x,y,\"bo-\") # On indiquer le symbole et la couleur : plt.plot(x,y,\"bo\") : bleu et avec des ronds. \n",
    "# dessin de rectangles\n",
    "for i in range(n-1): # n-1 est le nombre d'intervalles\n",
    "    x_rect = [x[i], x[i], x[i+1], x[i+1], x[i]] # Abscisses des sommets\n",
    "    y_rect = [0 , y[i], y[i] , 0 , 0 ] # Ordonnees des sommets\n",
    "    plt.plot(x_rect, y_rect,\"r\") # On indique la couleur rouge\n",
    "print(\"Voilà le graphe\") \n",
    "plt.show() # Affiche la figure à l'ecran\n"
   ]
  },
  {
   "cell_type": "markdown",
   "metadata": {},
   "source": [
    "# Calcul numérique d’intégrales avec la méthode des trapèzes"
   ]
  },
  {
   "cell_type": "code",
   "execution_count": 29,
   "metadata": {},
   "outputs": [
    {
     "name": "stdout",
     "output_type": "stream",
     "text": [
      "La valeur approchée de l'integrale est  -5.4489653095126\n",
      "Voilà le graphe\n"
     ]
    },
    {
     "data": {
      "image/png": "[encoded data removed]",
      "text/plain": [
       "<Figure size 432x288 with 1 Axes>"
      ]
     },
     "metadata": {
      "needs_background": "light"
     },
     "output_type": "display_data"
    }
   ],
   "source": [
    "# Calcul de l'intégrale de x*cos(x) entre 0 et 3pi/2 par la méthode des trapèzes (20 pas).\n",
    "\n",
    "import matplotlib.pyplot as plt \n",
    "import numpy as np\n",
    "\n",
    "def trapezes(f,a,b,n): \n",
    "    # La définition de fonction trapezes.\n",
    "    h=(b-a)/n \n",
    "    z=(f(a)+f(b))/2 \n",
    "    for i in range(1,n-1):\n",
    "        z=z+f(a+i*h) \n",
    "    return z*h\n",
    "\n",
    "# Testons notre fonction avec l'exemple précédent \n",
    "def f(x): # On définit tout d'abord la fonction f (ici f(x)= x*cosx). \n",
    "    return np.cos(x)*x \n",
    "a=0 # Borne d'intégration inférieure\n",
    "b = 3*np.pi/2 # Borne d'intégration supérieure\n",
    "n = 20 # Nombre de subdivisions\n",
    "print(\"La valeur approchée de l'integrale est \" ,trapezes(f,a,b,n))\n",
    "\n",
    "# On trace le graphe\n",
    "x = np.linspace(a, b, n)\n",
    "y=f(x)\n",
    "plt.plot(x,y,\"bo-\") # On indiquer le symbole et la couleur\n",
    "# dessin du trapèzes\n",
    "for i in range(n-1):\n",
    "    # n-1 est le nombre d'intervalles \n",
    "    x_rect = [x[i], x[i], x[i+1], x[i+1], x[i]] # abscisses des sommets\n",
    "    y_rect = [0 , f(x[i]), f(x[i+1]) , 0 , 0 ] # ordonnees des sommets\n",
    "    plt.plot(x_rect, y_rect,\"r\") # on indique la couleur bleu\n",
    "    \n",
    "print(\"Voilà le graphe\")\n",
    "plt.show() # affiche la figure à l'ecra"
   ]
  },
  {
   "cell_type": "markdown",
   "metadata": {},
   "source": [
    "# Calcul numérique d’intégrales avec la méthode de Simpson"
   ]
  },
  {
   "cell_type": "code",
   "execution_count": 30,
   "metadata": {},
   "outputs": [
    {
     "name": "stdout",
     "output_type": "stream",
     "text": [
      "La valeur approchée de l'integrale est  -5.712390812414515\n"
     ]
    }
   ],
   "source": [
    "# Calcul de l'intégrale de x*cos(x) entre 0 et 3pi/2 par la méthode deSimpson (20 pas).\n",
    "\n",
    "import numpy as np\n",
    "\n",
    "def Simpson(f,a,b,n): # La définition de méthode du Simpson\n",
    "    h=(b-a)/n \n",
    "    z=(f(a)+f(b))/6 \n",
    "    for i in range(1,n):\n",
    "        z=z+f(a+i*h)/3\n",
    "    for i in range(n) : \n",
    "        z=z+f(a+(2*i+1)*h/2)*2/3 \n",
    "    return h*z\n",
    "\n",
    "# Testons notre fonction avec l'exemple précédent\n",
    "def f(x): # On définit tout d'abord la fonction f (ici f(x)= x*cosx). \n",
    "    return np.cos(x)*x \n",
    "a=0 # Borne d'intégration inférieure \n",
    "b = 3*np.pi/2 # Borne d'intégration supérieure\n",
    "n = 20 # Nombre de subdivisions\n",
    "print(\"La valeur approchée de l'integrale est \" ,Simpson(f,a,b,n))"
   ]
  },
  {
   "cell_type": "markdown",
   "metadata": {},
   "source": [
    "# Calcul numérique d’intégrales avec numpy"
   ]
  },
  {
   "cell_type": "code",
   "execution_count": 31,
   "metadata": {},
   "outputs": [
    {
     "name": "stdout",
     "output_type": "stream",
     "text": [
      "La valeur approchée de l'integrale est:  -5.7123889803846915\n",
      "l'erreur est:  7.614013431694325e-14\n"
     ]
    }
   ],
   "source": [
    "from scipy.integrate import quad \n",
    "import numpy as np\n",
    "\n",
    "a = 0 \n",
    "b = 3*( np.pi / 2.0 )\n",
    "\n",
    "def f(x): \n",
    "    return np.cos(x)*x # 0n prend l'exmple précédent\n",
    "integrale, erreur = quad(f,a,b)  # Elle renvoie une valeur approchée de l'intégrale et un majorant de l'erreur commise\n",
    "\n",
    "print(\"La valeur approchée de l'integrale est: \" ,integrale) \n",
    "print(\"l'erreur est: \" ,erreur)"
   ]
  }
 ],
 "metadata": {
  "kernelspec": {
   "display_name": "Python 3",
   "language": "python",
   "name": "python3"
  },
  "language_info": {
   "codemirror_mode": {
    "name": "ipython",
    "version": 3
   },
   "file_extension": ".py",
   "mimetype": "text/x-python",
   "name": "python",
   "nbconvert_exporter": "python",
   "pygments_lexer": "ipython3",
   "version": "3.7.4"
  },
  "toc": {
   "base_numbering": 1,
   "nav_menu": {},
   "number_sections": true,
   "sideBar": true,
   "skip_h1_title": false,
   "title_cell": "Table of Contents",
   "title_sidebar": "Contents",
   "toc_cell": false,
   "toc_position": {},
   "toc_section_display": true,
   "toc_window_display": false
  }
 },
 "nbformat": 4,
 "nbformat_minor": 4
}
