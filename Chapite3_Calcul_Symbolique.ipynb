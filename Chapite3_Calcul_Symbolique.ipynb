{
 "cells": [
  {
   "cell_type": "markdown",
   "metadata": {},
   "source": [
    "# dérivé d'ordre 1 de $\\frac{e^x}{x-1}$"
   ]
  },
  {
   "cell_type": "code",
   "execution_count": 7,
   "metadata": {},
   "outputs": [
    {
     "data": {
      "text/latex": [
       "$\\displaystyle \\frac{x e^{x}}{e^{2 x} + 1} - \\frac{2 x e^{3 x}}{\\left(e^{2 x} + 1\\right)^{2}} + \\frac{e^{x}}{e^{2 x} + 1}$"
      ],
      "text/plain": [
       "x*exp(x)/(exp(2*x) + 1) - 2*x*exp(3*x)/(exp(2*x) + 1)**2 + exp(x)/(exp(2*x) + 1)"
      ]
     },
     "execution_count": 7,
     "metadata": {},
     "output_type": "execute_result"
    }
   ],
   "source": [
    "from sympy import *\n",
    "x=Symbol('x')\n",
    "diff(x*exp(x)/(exp(2*x)+1),x)"
   ]
  },
  {
   "cell_type": "markdown",
   "metadata": {},
   "source": [
    "# dérivé d'ordre 2 de  $\\frac{e^x}{x-1}$"
   ]
  },
  {
   "cell_type": "code",
   "execution_count": 1,
   "metadata": {},
   "outputs": [
    {
     "data": {
      "text/latex": [
       "$\\displaystyle \\frac{\\left(1 - \\frac{2}{x - 1} + \\frac{2}{\\left(x - 1\\right)^{2}}\\right) e^{x}}{x - 1}$"
      ],
      "text/plain": [
       "(1 - 2/(x - 1) + 2/(x - 1)**2)*exp(x)/(x - 1)"
      ]
     },
     "execution_count": 1,
     "metadata": {},
     "output_type": "execute_result"
    }
   ],
   "source": [
    "from sympy import *\n",
    "x=Symbol('x')\n",
    "diff(exp(x)/(x-1),x,x)"
   ]
  },
  {
   "cell_type": "markdown",
   "metadata": {},
   "source": [
    "# dérivé d'ordre 3 de  $\\frac{e^x}{x-1}$"
   ]
  },
  {
   "cell_type": "code",
   "execution_count": 9,
   "metadata": {},
   "outputs": [
    {
     "data": {
      "text/latex": [
       "$\\displaystyle \\frac{\\left(1 - \\frac{3}{x - 1} + \\frac{6}{\\left(x - 1\\right)^{2}} - \\frac{6}{\\left(x - 1\\right)^{3}}\\right) e^{x}}{x - 1}$"
      ],
      "text/plain": [
       "(1 - 3/(x - 1) + 6/(x - 1)**2 - 6/(x - 1)**3)*exp(x)/(x - 1)"
      ]
     },
     "execution_count": 9,
     "metadata": {},
     "output_type": "execute_result"
    }
   ],
   "source": [
    "from sympy import *\n",
    "x=Symbol('x')\n",
    "diff(exp(x)/(x-1),x,x,x)"
   ]
  },
  {
   "cell_type": "markdown",
   "metadata": {},
   "source": [
    "# la primitive  $\\frac{xe^x}{(x+1)^2}$"
   ]
  },
  {
   "cell_type": "code",
   "execution_count": 10,
   "metadata": {},
   "outputs": [
    {
     "data": {
      "text/latex": [
       "$\\displaystyle \\frac{e^{x}}{x + 1}$"
      ],
      "text/plain": [
       "exp(x)/(x + 1)"
      ]
     },
     "execution_count": 10,
     "metadata": {},
     "output_type": "execute_result"
    }
   ],
   "source": [
    "from sympy import *\n",
    "x=Symbol('x')\n",
    "integrate(x*exp(x)/(x+1)**2,x)"
   ]
  },
  {
   "cell_type": "markdown",
   "metadata": {},
   "source": [
    "# la primitive de $\\frac{2xln(x)}{(x^2-1)^2}$"
   ]
  },
  {
   "cell_type": "code",
   "execution_count": 12,
   "metadata": {},
   "outputs": [
    {
     "data": {
      "text/latex": [
       "$\\displaystyle - \\log{\\left(x \\right)} + \\frac{\\log{\\left(x^{2} - 1 \\right)}}{2} - \\frac{\\log{\\left(x \\right)}}{x^{2} - 1}$"
      ],
      "text/plain": [
       "-log(x) + log(x**2 - 1)/2 - log(x)/(x**2 - 1)"
      ]
     },
     "execution_count": 12,
     "metadata": {},
     "output_type": "execute_result"
    }
   ],
   "source": [
    "from sympy import *\n",
    "x=Symbol('x')\n",
    "integrate((2*x*log(x))/(x**2-1)**2)"
   ]
  },
  {
   "cell_type": "markdown",
   "metadata": {},
   "source": [
    "# L'intégrale de $\\int_0^{3\\pi/2}xcos(x)dx$"
   ]
  },
  {
   "cell_type": "code",
   "execution_count": 13,
   "metadata": {},
   "outputs": [
    {
     "data": {
      "text/latex": [
       "$\\displaystyle \\int\\limits_{0}^{\\frac{3 \\pi}{2}} x \\cos{\\left(x \\right)}\\, dx = - \\frac{3 \\pi}{2} - 1$"
      ],
      "text/plain": [
       "Eq(Integral(x*cos(x), (x, 0, 3*pi/2)), -3*pi/2 - 1)"
      ]
     },
     "execution_count": 13,
     "metadata": {},
     "output_type": "execute_result"
    }
   ],
   "source": [
    "from sympy import *\n",
    "x=Symbol('x')\n",
    "A=Integral(x*cos(x),(x,0,3*pi/2)) #créer une integrale non evaluée avec la méthode Integral()\n",
    "B=integrate(x*cos(x),(x,0,3*pi/2))\n",
    "Eq(A,B)"
   ]
  },
  {
   "cell_type": "markdown",
   "metadata": {},
   "source": [
    "# L'intégrale de  $ \\int\\limits_{0}^{1}\\int\\limits_{0}^{\\pi} 2 y \\sin{\\left(x \\right)}\\, dx\\, dy$"
   ]
  },
  {
   "cell_type": "code",
   "execution_count": 14,
   "metadata": {},
   "outputs": [
    {
     "data": {
      "text/latex": [
       "$\\displaystyle \\int\\limits_{0}^{1}\\int\\limits_{0}^{\\pi} 2 y \\sin{\\left(x \\right)}\\, dx\\, dy = 2$"
      ],
      "text/plain": [
       "Eq(Integral(2*y*sin(x), (x, 0, pi), (y, 0, 1)), 2)"
      ]
     },
     "execution_count": 14,
     "metadata": {},
     "output_type": "execute_result"
    }
   ],
   "source": [
    "from sympy import *\n",
    "x,y=symbols('x,y')\n",
    "A=Integral(2*y*sin(x),(x,0,pi),(y,0,1))\n",
    "B=integrate(2*y*sin(x),(x,0,pi),(y,0,1))\n",
    "Eq(A,B)"
   ]
  },
  {
   "cell_type": "markdown",
   "metadata": {},
   "source": [
    "# L'intégrale de  $\\int\\limits_{0}^{2}\\int\\limits_{0}^{1}\\int\\limits_{0}^{\\pi} 2 y z \\sin{\\left(x \\right)}\\, dx\\, dy\\, dz$"
   ]
  },
  {
   "cell_type": "code",
   "execution_count": 15,
   "metadata": {},
   "outputs": [
    {
     "data": {
      "text/latex": [
       "$\\displaystyle \\int\\limits_{0}^{2}\\int\\limits_{0}^{1}\\int\\limits_{0}^{\\pi} 2 y z \\sin{\\left(x \\right)}\\, dx\\, dy\\, dz = 4$"
      ],
      "text/plain": [
       "Eq(Integral(2*y*z*sin(x), (x, 0, pi), (y, 0, 1), (z, 0, 2)), 4)"
      ]
     },
     "execution_count": 15,
     "metadata": {},
     "output_type": "execute_result"
    }
   ],
   "source": [
    "from sympy import *\n",
    "x,y,z=symbols('x,y,z')\n",
    "A=Integral(2*y*z*sin(x),(x,0,pi),(y,0,1),(z,0,2))\n",
    "B=integrate(2*y*z*sin(x),(x,0,pi),(y,0,1),(z,0,2))\n",
    "Eq(A,B)"
   ]
  },
  {
   "cell_type": "markdown",
   "metadata": {},
   "source": [
    "# Résolution de l'équation $\\displaystyle{ln(x^2-1)-ln(2x-1)+ln2=0}$"
   ]
  },
  {
   "cell_type": "code",
   "execution_count": 16,
   "metadata": {},
   "outputs": [
    {
     "data": {
      "text/plain": [
       "[1/2 + sqrt(3)/2]"
      ]
     },
     "execution_count": 16,
     "metadata": {},
     "output_type": "execute_result"
    }
   ],
   "source": [
    "from sympy import *\n",
    "x=Symbol('x' ,positive=True )\n",
    "eq=log(x**2-1)-log(2*x-1)+log(2)\n",
    "solve(eq,x )"
   ]
  },
  {
   "cell_type": "markdown",
   "metadata": {},
   "source": [
    "# Résolution de l'équation  $\\displaystyle{(x-\\frac{1}{x})(2x^2-1)\\sqrt{2-\\frac{4}{x+2}}}=0$"
   ]
  },
  {
   "cell_type": "code",
   "execution_count": 19,
   "metadata": {},
   "outputs": [
    {
     "data": {
      "text/plain": [
       "[1, sqrt(2)/2]"
      ]
     },
     "execution_count": 19,
     "metadata": {},
     "output_type": "execute_result"
    }
   ],
   "source": [
    "from sympy import *\n",
    "x=Symbol('x' ,positive=True )\n",
    "eq=(x-1/x)*(2*x**2-1)*sqrt(2-4/(x+2))\n",
    "solve(eq,x )"
   ]
  },
  {
   "cell_type": "markdown",
   "metadata": {},
   "source": [
    "# Le développement  limité de $cos(x)$"
   ]
  },
  {
   "cell_type": "code",
   "execution_count": 20,
   "metadata": {},
   "outputs": [
    {
     "data": {
      "text/latex": [
       "$\\displaystyle 1 - \\frac{x^{2}}{2} + \\frac{x^{4}}{24} + O\\left(x^{6}\\right)$"
      ],
      "text/plain": [
       "1 - x**2/2 + x**4/24 + O(x**6)"
      ]
     },
     "execution_count": 20,
     "metadata": {},
     "output_type": "execute_result"
    }
   ],
   "source": [
    " from sympy import *\n",
    "x = symbols('x')\n",
    "series(cos(x),x,0)"
   ]
  },
  {
   "cell_type": "markdown",
   "metadata": {},
   "source": [
    "# Le développement limité de la fonction $f(x)=(1+sinx)^x-(1+x)^{sinx}$"
   ]
  },
  {
   "cell_type": "code",
   "execution_count": 22,
   "metadata": {},
   "outputs": [
    {
     "data": {
      "text/latex": [
       "$\\displaystyle \\frac{x^{5}}{12} + O\\left(x^{6}\\right)$"
      ],
      "text/plain": [
       "x**5/12 + O(x**6)"
      ]
     },
     "execution_count": 22,
     "metadata": {},
     "output_type": "execute_result"
    }
   ],
   "source": [
    " from sympy import *\n",
    "x = symbols('x')\n",
    "series((1+sin(x))**x-(1+x)**sin(x),x,0,6)"
   ]
  },
  {
   "cell_type": "markdown",
   "metadata": {},
   "source": [
    "#  calculer $\\lim\\limits_{x \\rightarrow 1}\\frac{1}{x^2+1}$"
   ]
  },
  {
   "cell_type": "code",
   "execution_count": 23,
   "metadata": {},
   "outputs": [
    {
     "data": {
      "text/latex": [
       "$\\displaystyle \\frac{1}{2}$"
      ],
      "text/plain": [
       "1/2"
      ]
     },
     "execution_count": 23,
     "metadata": {},
     "output_type": "execute_result"
    }
   ],
   "source": [
    " from sympy import *\n",
    "x=Symbol('x')\n",
    "limit(1/(x**2+1),x,1)"
   ]
  },
  {
   "cell_type": "markdown",
   "metadata": {},
   "source": [
    "# calculer $\\lim\\limits_{x \\rightarrow 2^+}\\frac{x^2}{x-1}$"
   ]
  },
  {
   "cell_type": "code",
   "execution_count": null,
   "metadata": {},
   "outputs": [],
   "source": [
    "from sympy import *\n",
    "x=Symbol('x')\n",
    "limit(x**2/(x-2),x,2,dir=\"-\")\n"
   ]
  },
  {
   "cell_type": "markdown",
   "metadata": {},
   "source": [
    "# calculer $\\lim\\limits_{x \\rightarrow 2^+}\\frac{x^2}{x-1}$"
   ]
  },
  {
   "cell_type": "code",
   "execution_count": 24,
   "metadata": {},
   "outputs": [
    {
     "data": {
      "text/latex": [
       "$\\displaystyle \\infty$"
      ],
      "text/plain": [
       "oo"
      ]
     },
     "execution_count": 24,
     "metadata": {},
     "output_type": "execute_result"
    }
   ],
   "source": [
    " limit(x**2/(x-2),x,2,dir=\"+\")"
   ]
  },
  {
   "cell_type": "markdown",
   "metadata": {},
   "source": [
    "# calculer  $\\lim\\limits_{x \\rightarrow +\\infty}\\frac{xlnx+7}{x^2+4}$"
   ]
  },
  {
   "cell_type": "code",
   "execution_count": 25,
   "metadata": {},
   "outputs": [
    {
     "data": {
      "text/latex": [
       "$\\displaystyle 0$"
      ],
      "text/plain": [
       "0"
      ]
     },
     "execution_count": 25,
     "metadata": {},
     "output_type": "execute_result"
    }
   ],
   "source": [
    "from sympy import *\n",
    "x=Symbol('x')\n",
    "limit((x*log(x)+7)/(x**2+4),x,oo)"
   ]
  },
  {
   "cell_type": "markdown",
   "metadata": {},
   "source": [
    "# calculer  $\\lim\\limits_{x \\rightarrow -\\infty}\\frac{xlnx+7}{x^2+4}$"
   ]
  },
  {
   "cell_type": "code",
   "execution_count": 26,
   "metadata": {},
   "outputs": [
    {
     "data": {
      "text/latex": [
       "$\\displaystyle 0$"
      ],
      "text/plain": [
       "0"
      ]
     },
     "execution_count": 26,
     "metadata": {},
     "output_type": "execute_result"
    }
   ],
   "source": [
    "from sympy import *\n",
    "x=Symbol('x')\n",
    "limit((x*log(x)+7)/(x**2+4),x,-oo)"
   ]
  },
  {
   "cell_type": "markdown",
   "metadata": {},
   "source": [
    "# calculer  $\\lim\\limits_{x \\rightarrow 0}(2e^{\\frac{1-cos(x}{sin(x)}}-1)^{\\frac{sinh(x)}{arctan^2(x)}} $"
   ]
  },
  {
   "cell_type": "code",
   "execution_count": 27,
   "metadata": {},
   "outputs": [
    {
     "data": {
      "text/latex": [
       "$\\displaystyle e$"
      ],
      "text/plain": [
       "E"
      ]
     },
     "execution_count": 27,
     "metadata": {},
     "output_type": "execute_result"
    }
   ],
   "source": [
    "from sympy import *\n",
    "x=Symbol('x')\n",
    "limit((2*exp((1-cos(x))/sin(x))-1)**(sinh(x)/atan(x)**2),x,0)"
   ]
  },
  {
   "cell_type": "markdown",
   "metadata": {},
   "source": [
    "## Les  Matrices ##"
   ]
  },
  {
   "cell_type": "code",
   "execution_count": 28,
   "metadata": {},
   "outputs": [],
   "source": [
    " from sympy import Matrix, init_printing\n",
    "init_printing()\n",
    "M=Matrix([[0,2,-1],[3,-2,0],[-2,2,1]])"
   ]
  },
  {
   "cell_type": "code",
   "execution_count": 29,
   "metadata": {},
   "outputs": [
    {
     "data": {
      "image/png": "[encoded data removed]",
      "text/latex": [
       "$\\displaystyle -8$"
      ],
      "text/plain": [
       "-8"
      ]
     },
     "execution_count": 29,
     "metadata": {},
     "output_type": "execute_result"
    }
   ],
   "source": [
    "d=M.det() #le determinant de la matrice M\n",
    "d"
   ]
  },
  {
   "cell_type": "code",
   "execution_count": 30,
   "metadata": {},
   "outputs": [
    {
     "data": {
      "image/png": "[encoded data removed]",
      "text/latex": [
       "$\\displaystyle \\left[\\begin{matrix}3 & 0 & -2\\\\6 & 2 & 1\\\\0 & 1 & 5\\end{matrix}\\right]$"
      ],
      "text/plain": [
       "⎡3  0  -2⎤\n",
       "⎢        ⎥\n",
       "⎢6  2  1 ⎥\n",
       "⎢        ⎥\n",
       "⎣0  1  5 ⎦"
      ]
     },
     "execution_count": 30,
     "metadata": {},
     "output_type": "execute_result"
    }
   ],
   "source": [
    " N=Matrix([[3,-2,-1],[3,4,1],[2,-1,4]])\n",
    "M+N"
   ]
  },
  {
   "cell_type": "code",
   "execution_count": 31,
   "metadata": {},
   "outputs": [
    {
     "data": {
      "image/png": "[encoded data removed]",
      "text/latex": [
       "$\\displaystyle \\left[\\begin{matrix}4 & 9 & -2\\\\3 & -14 & -5\\\\2 & 11 & 8\\end{matrix}\\right]$"
      ],
      "text/plain": [
       "⎡4   9   -2⎤\n",
       "⎢          ⎥\n",
       "⎢3  -14  -5⎥\n",
       "⎢          ⎥\n",
       "⎣2  11   8 ⎦"
      ]
     },
     "execution_count": 31,
     "metadata": {},
     "output_type": "execute_result"
    }
   ],
   "source": [
    " # le produit matricielle de M et N\n",
    "M*N"
   ]
  },
  {
   "cell_type": "code",
   "execution_count": 32,
   "metadata": {},
   "outputs": [
    {
     "data": {
      "image/png": "[encoded data removed]",
      "text/latex": [
       "$\\displaystyle \\left[\\begin{matrix}0 & 8 & -4\\\\12 & -8 & 0\\\\-8 & 8 & 4\\end{matrix}\\right]$"
      ],
      "text/plain": [
       "⎡0   8   -4⎤\n",
       "⎢          ⎥\n",
       "⎢12  -8  0 ⎥\n",
       "⎢          ⎥\n",
       "⎣-8  8   4 ⎦"
      ]
     },
     "execution_count": 32,
     "metadata": {},
     "output_type": "execute_result"
    }
   ],
   "source": [
    "4*M   # multiplier M par un scalaire"
   ]
  },
  {
   "cell_type": "code",
   "execution_count": 33,
   "metadata": {},
   "outputs": [
    {
     "data": {
      "image/png": "[encoded data removed]",
      "text/latex": [
       "$\\displaystyle \\left[\\begin{matrix}\\frac{3}{8} & 0 & \\frac{1}{8}\\\\- \\frac{1}{4} & \\frac{1}{4} & - \\frac{1}{4}\\\\\\frac{1}{8} & 0 & \\frac{3}{8}\\end{matrix}\\right]$"
      ],
      "text/plain": [
       "⎡3/8    0   1/8 ⎤\n",
       "⎢               ⎥\n",
       "⎢-1/4  1/4  -1/4⎥\n",
       "⎢               ⎥\n",
       "⎣1/8    0   3/8 ⎦"
      ]
     },
     "execution_count": 33,
     "metadata": {},
     "output_type": "execute_result"
    }
   ],
   "source": [
    "M=Matrix([[3,0,-1],[2,4,2],[-1,0,3]])\n",
    "inverse=M.inv()  # l'inverse de la matrice M\n",
    "inverse"
   ]
  },
  {
   "cell_type": "code",
   "execution_count": 34,
   "metadata": {},
   "outputs": [
    {
     "data": {
      "image/png": "[encoded data removed]",
      "text/latex": [
       "$\\displaystyle \\left[\\begin{matrix}3 & 2 & -1\\\\0 & 4 & 0\\\\-1 & 2 & 3\\end{matrix}\\right]$"
      ],
      "text/plain": [
       "⎡3   2  -1⎤\n",
       "⎢         ⎥\n",
       "⎢0   4  0 ⎥\n",
       "⎢         ⎥\n",
       "⎣-1  2  3 ⎦"
      ]
     },
     "execution_count": 34,
     "metadata": {},
     "output_type": "execute_result"
    }
   ],
   "source": [
    " M.transpose() # la transposé de M"
   ]
  },
  {
   "cell_type": "code",
   "execution_count": 35,
   "metadata": {},
   "outputs": [
    {
     "data": {
      "image/png": "[encoded data removed]",
      "text/latex": [
       "$\\displaystyle \\left[\\begin{matrix}10 & 0 & -6\\\\12 & 16 & 12\\\\-6 & 0 & 10\\end{matrix}\\right]$"
      ],
      "text/plain": [
       "⎡10  0   -6⎤\n",
       "⎢          ⎥\n",
       "⎢12  16  12⎥\n",
       "⎢          ⎥\n",
       "⎣-6  0   10⎦"
      ]
     },
     "execution_count": 35,
     "metadata": {},
     "output_type": "execute_result"
    }
   ],
   "source": [
    "M**2   # la puissance de M"
   ]
  },
  {
   "cell_type": "code",
   "execution_count": 36,
   "metadata": {},
   "outputs": [
    {
     "name": "stdout",
     "output_type": "stream",
     "text": [
      "les valeurs propres de M :\n",
      "{2: 1, 4: 2}\n",
      "les vecteurs propres de M :\n"
     ]
    },
    {
     "data": {
      "image/png": "[encoded data removed]",
      "text/latex": [
       "$\\displaystyle \\left[ \\left( 2, \\  1, \\  \\left[ \\left[\\begin{matrix}1\\\\-2\\\\1\\end{matrix}\\right]\\right]\\right), \\  \\left( 4, \\  2, \\  \\left[ \\left[\\begin{matrix}0\\\\1\\\\0\\end{matrix}\\right], \\  \\left[\\begin{matrix}-1\\\\0\\\\1\\end{matrix}\\right]\\right]\\right)\\right]$"
      ],
      "text/plain": [
       "⎡⎛      ⎡⎡1 ⎤⎤⎞  ⎛      ⎡⎡0⎤  ⎡-1⎤⎤⎞⎤\n",
       "⎢⎜      ⎢⎢  ⎥⎥⎟  ⎜      ⎢⎢ ⎥  ⎢  ⎥⎥⎟⎥\n",
       "⎢⎜2, 1, ⎢⎢-2⎥⎥⎟, ⎜4, 2, ⎢⎢1⎥, ⎢0 ⎥⎥⎟⎥\n",
       "⎢⎜      ⎢⎢  ⎥⎥⎟  ⎜      ⎢⎢ ⎥  ⎢  ⎥⎥⎟⎥\n",
       "⎣⎝      ⎣⎣1 ⎦⎦⎠  ⎝      ⎣⎣0⎦  ⎣1 ⎦⎦⎠⎦"
      ]
     },
     "metadata": {},
     "output_type": "display_data"
    }
   ],
   "source": [
    "vlp=M.eigenvals() # les valeurs propres de M\n",
    "print('les valeurs propres de M :')\n",
    "print(vlp)\n",
    "vcp=M.eigenvects() # les vecteurs propres\n",
    "print('les vecteurs propres de M :')\n",
    "display(vcp)"
   ]
  },
  {
   "cell_type": "markdown",
   "metadata": {},
   "source": [
    "# la décomposition QR de M"
   ]
  },
  {
   "cell_type": "code",
   "execution_count": 37,
   "metadata": {},
   "outputs": [
    {
     "name": "stdout",
     "output_type": "stream",
     "text": [
      "L=\n"
     ]
    },
    {
     "data": {
      "image/png": "[encoded data removed]",
      "text/latex": [
       "$\\displaystyle \\left[\\begin{matrix}1 & 0 & 0\\\\\\frac{2}{3} & 1 & 0\\\\- \\frac{1}{3} & 0 & 1\\end{matrix}\\right]$"
      ],
      "text/plain": [
       "⎡ 1    0  0⎤\n",
       "⎢          ⎥\n",
       "⎢2/3   1  0⎥\n",
       "⎢          ⎥\n",
       "⎣-1/3  0  1⎦"
      ]
     },
     "metadata": {},
     "output_type": "display_data"
    },
    {
     "name": "stdout",
     "output_type": "stream",
     "text": [
      "U=\n"
     ]
    },
    {
     "data": {
      "image/png": "[encoded data removed]",
      "text/latex": [
       "$\\displaystyle \\left[\\begin{matrix}3 & 0 & -1\\\\0 & 4 & \\frac{8}{3}\\\\0 & 0 & \\frac{8}{3}\\end{matrix}\\right]$"
      ],
      "text/plain": [
       "⎡3  0  -1 ⎤\n",
       "⎢         ⎥\n",
       "⎢0  4  8/3⎥\n",
       "⎢         ⎥\n",
       "⎣0  0  8/3⎦"
      ]
     },
     "metadata": {},
     "output_type": "display_data"
    }
   ],
   "source": [
    "(L,U,row)=M.LUdecomposition()\n",
    "print('L=')\n",
    "display(L)\n",
    "print('U=')\n",
    "display(U)"
   ]
  },
  {
   "cell_type": "markdown",
   "metadata": {},
   "source": [
    "# la décomposition LU de M"
   ]
  },
  {
   "cell_type": "code",
   "execution_count": 38,
   "metadata": {},
   "outputs": [
    {
     "name": "stdout",
     "output_type": "stream",
     "text": [
      "Q=\n"
     ]
    },
    {
     "data": {
      "image/png": "[encoded data removed]",
      "text/latex": [
       "$\\displaystyle \\left[\\begin{matrix}\\frac{3 \\sqrt{14}}{14} & - \\frac{3 \\sqrt{35}}{35} & \\frac{\\sqrt{10}}{10}\\\\\\frac{\\sqrt{14}}{7} & \\frac{\\sqrt{35}}{7} & 0\\\\- \\frac{\\sqrt{14}}{14} & \\frac{\\sqrt{35}}{35} & \\frac{3 \\sqrt{10}}{10}\\end{matrix}\\right]$"
      ],
      "text/plain": [
       "⎡3⋅√14  -3⋅√35    √10 ⎤\n",
       "⎢─────  ───────   ─── ⎥\n",
       "⎢  14      35      10 ⎥\n",
       "⎢                     ⎥\n",
       "⎢ √14     √35         ⎥\n",
       "⎢ ───     ───      0  ⎥\n",
       "⎢  7       7          ⎥\n",
       "⎢                     ⎥\n",
       "⎢-√14     √35    3⋅√10⎥\n",
       "⎢─────    ───    ─────⎥\n",
       "⎣  14      35      10 ⎦"
      ]
     },
     "metadata": {},
     "output_type": "display_data"
    },
    {
     "name": "stdout",
     "output_type": "stream",
     "text": [
      "R=\n"
     ]
    },
    {
     "data": {
      "image/png": "[encoded data removed]",
      "text/latex": [
       "$\\displaystyle \\left[\\begin{matrix}\\sqrt{14} & \\frac{4 \\sqrt{14}}{7} & - \\frac{\\sqrt{14}}{7}\\\\0 & \\frac{4 \\sqrt{35}}{7} & \\frac{16 \\sqrt{35}}{35}\\\\0 & 0 & \\frac{4 \\sqrt{10}}{5}\\end{matrix}\\right]$"
      ],
      "text/plain": [
       "⎡     4⋅√14  -√14  ⎤\n",
       "⎢√14  ─────  ───── ⎥\n",
       "⎢       7      7   ⎥\n",
       "⎢                  ⎥\n",
       "⎢     4⋅√35  16⋅√35⎥\n",
       "⎢ 0   ─────  ──────⎥\n",
       "⎢       7      35  ⎥\n",
       "⎢                  ⎥\n",
       "⎢            4⋅√10 ⎥\n",
       "⎢ 0     0    ───── ⎥\n",
       "⎣              5   ⎦"
      ]
     },
     "metadata": {},
     "output_type": "display_data"
    }
   ],
   "source": [
    "(Q,R)=M.QRdecomposition()\n",
    "print('Q=')\n",
    "display(Q)\n",
    "print('R=')\n",
    "display(R)"
   ]
  },
  {
   "cell_type": "markdown",
   "metadata": {},
   "source": [
    "# la Résolution de systeme linéaire"
   ]
  },
  {
   "cell_type": "code",
   "execution_count": 39,
   "metadata": {},
   "outputs": [
    {
     "data": {
      "image/png": "[encoded data removed]",
      "text/latex": [
       "$\\displaystyle \\left\\{ x : 1, \\  y : 2, \\  z : 3\\right\\}$"
      ],
      "text/plain": [
       "{x: 1, y: 2, z: 3}"
      ]
     },
     "execution_count": 39,
     "metadata": {},
     "output_type": "execute_result"
    }
   ],
   "source": [
    "from sympy import *\n",
    "x,y,z=symbols('x,y,z')\n",
    "eq=[2*x+3*y-z-5,4*x+4*y-3*z-3,-2*x+3*y-z-1]\n",
    "solve(eq,[x,y,z])"
   ]
  },
  {
   "cell_type": "markdown",
   "metadata": {},
   "source": [
    "# polynome "
   ]
  },
  {
   "cell_type": "code",
   "execution_count": 41,
   "metadata": {},
   "outputs": [],
   "source": [
    " from sympy import *\n",
    "X=Symbol('X')\n",
    "Q=X+1\n",
    "P=X**3+X**2+X+1"
   ]
  },
  {
   "cell_type": "code",
   "execution_count": 42,
   "metadata": {},
   "outputs": [
    {
     "data": {
      "image/png": "[encoded data removed]",
      "text/latex": [
       "$\\displaystyle \\left(X + 1\\right) \\left(X^{2} + 1\\right)$"
      ],
      "text/plain": [
       "        ⎛ 2    ⎞\n",
       "(X + 1)⋅⎝X  + 1⎠"
      ]
     },
     "execution_count": 42,
     "metadata": {},
     "output_type": "execute_result"
    }
   ],
   "source": [
    "f=factor(P)    # factorisation de polynome P\n",
    "f"
   ]
  },
  {
   "cell_type": "code",
   "execution_count": 43,
   "metadata": {},
   "outputs": [
    {
     "data": {
      "image/png": "[encoded data removed]",
      "text/latex": [
       "$\\displaystyle \\left\\{ -1 : 1, \\  - i : 1, \\  i : 1\\right\\}$"
      ],
      "text/plain": [
       "{-1: 1, -ⅈ: 1, ⅈ: 1}"
      ]
     },
     "execution_count": 43,
     "metadata": {},
     "output_type": "execute_result"
    }
   ],
   "source": [
    "racine=roots(P)  # les racines de P\n",
    "racine"
   ]
  },
  {
   "cell_type": "code",
   "execution_count": 44,
   "metadata": {},
   "outputs": [
    {
     "data": {
      "image/png": "[encoded data removed]",
      "text/latex": [
       "$\\displaystyle X^{4} + 2 X^{3} + 2 X^{2} + 2 X + 1$"
      ],
      "text/plain": [
       " 4      3      2          \n",
       "X  + 2⋅X  + 2⋅X  + 2⋅X + 1"
      ]
     },
     "execution_count": 44,
     "metadata": {},
     "output_type": "execute_result"
    }
   ],
   "source": [
    " pr=P*Q    # le produit \n",
    "pr.expand()"
   ]
  },
  {
   "cell_type": "code",
   "execution_count": 45,
   "metadata": {},
   "outputs": [
    {
     "data": {
      "image/png": "[encoded data removed]",
      "text/latex": [
       "$\\displaystyle X^{3} + X^{2} + 2 X + 2$"
      ],
      "text/plain": [
       " 3    2          \n",
       "X  + X  + 2⋅X + 2"
      ]
     },
     "execution_count": 45,
     "metadata": {},
     "output_type": "execute_result"
    }
   ],
   "source": [
    " A=P+Q   # l'addition\n",
    "A"
   ]
  },
  {
   "cell_type": "code",
   "execution_count": 46,
   "metadata": {},
   "outputs": [
    {
     "data": {
      "image/png": "[encoded data removed]",
      "text/latex": [
       "$\\displaystyle X^{2} + 1$"
      ],
      "text/plain": [
       " 2    \n",
       "X  + 1"
      ]
     },
     "execution_count": 46,
     "metadata": {},
     "output_type": "execute_result"
    }
   ],
   "source": [
    "d=P/Q     # la division euclidienne\n",
    "d.simplify()"
   ]
  },
  {
   "cell_type": "markdown",
   "metadata": {},
   "source": [
    "# Fraction Rationnelle"
   ]
  },
  {
   "cell_type": "code",
   "execution_count": 47,
   "metadata": {},
   "outputs": [],
   "source": [
    "from sympy import *\n",
    "x,y=symbols('x,y')"
   ]
  },
  {
   "cell_type": "markdown",
   "metadata": {},
   "source": [
    "la décomposition de fraction $\\dfrac{1}{x^2+3x+2}$"
   ]
  },
  {
   "cell_type": "code",
   "execution_count": 48,
   "metadata": {},
   "outputs": [
    {
     "data": {
      "image/png": "[encoded data removed]",
      "text/latex": [
       "$\\displaystyle - \\frac{1}{x + 2} + \\frac{1}{x + 1}$"
      ],
      "text/plain": [
       "    1       1  \n",
       "- ───── + ─────\n",
       "  x + 2   x + 1"
      ]
     },
     "execution_count": 48,
     "metadata": {},
     "output_type": "execute_result"
    }
   ],
   "source": [
    "apart(1/(x**2+3*x+2),x)"
   ]
  },
  {
   "cell_type": "markdown",
   "metadata": {},
   "source": [
    "a réduction au même dénominateur des deux fractions :"
   ]
  },
  {
   "cell_type": "code",
   "execution_count": 49,
   "metadata": {},
   "outputs": [
    {
     "data": {
      "image/png": "[encoded data removed]",
      "text/latex": [
       "$\\displaystyle \\frac{y + 1}{y \\left(x + 1\\right)}$"
      ],
      "text/plain": [
       "  y + 1  \n",
       "─────────\n",
       "y⋅(x + 1)"
      ]
     },
     "execution_count": 49,
     "metadata": {},
     "output_type": "execute_result"
    }
   ],
   "source": [
    "together(1/(y*x+y)+1/(1+x))"
   ]
  },
  {
   "cell_type": "markdown",
   "metadata": {},
   "source": [
    "Simplifie la fraction $\\dfrac{y}{yx+y}$"
   ]
  },
  {
   "cell_type": "code",
   "execution_count": 50,
   "metadata": {},
   "outputs": [
    {
     "data": {
      "image/png": "[encoded data removed]",
      "text/latex": [
       "$\\displaystyle \\frac{1}{x + 1}$"
      ],
      "text/plain": [
       "  1  \n",
       "─────\n",
       "x + 1"
      ]
     },
     "execution_count": 50,
     "metadata": {},
     "output_type": "execute_result"
    }
   ],
   "source": [
    "cancel(y/(y*x+y))"
   ]
  },
  {
   "cell_type": "markdown",
   "metadata": {},
   "source": [
    "# les séries numériques"
   ]
  },
  {
   "cell_type": "markdown",
   "metadata": {},
   "source": [
    "  calculer la somme  $\\sum\\limits_{k=1}^{30} \\frac{1}{k} $ "
   ]
  },
  {
   "cell_type": "code",
   "execution_count": 51,
   "metadata": {},
   "outputs": [
    {
     "data": {
      "image/png": "[encoded data removed]",
      "text/latex": [
       "$\\displaystyle \\frac{9304682830147}{2329089562800}$"
      ],
      "text/plain": [
       "9304682830147\n",
       "─────────────\n",
       "2329089562800"
      ]
     },
     "execution_count": 51,
     "metadata": {},
     "output_type": "execute_result"
    }
   ],
   "source": [
    "from sympy import *\n",
    "k,n = symbols('k n')\n",
    "summation(1/k, (k, 1, 30))"
   ]
  },
  {
   "cell_type": "markdown",
   "metadata": {},
   "source": [
    "afficher les 4 premiers termes de la série harmonique"
   ]
  },
  {
   "cell_type": "code",
   "execution_count": 52,
   "metadata": {},
   "outputs": [
    {
     "data": {
      "image/png": "[encoded data removed]",
      "text/latex": [
       "$\\displaystyle \\left[ 1, \\  \\frac{3}{2}, \\  \\frac{11}{6}, \\  \\frac{25}{12}\\right]$"
      ],
      "text/plain": [
       "⎡              25⎤\n",
       "⎢1, 3/2, 11/6, ──⎥\n",
       "⎣              12⎦"
      ]
     },
     "execution_count": 52,
     "metadata": {},
     "output_type": "execute_result"
    }
   ],
   "source": [
    "from sympy import *\n",
    "k,n=symbols('k,n')\n",
    "[summation(1/k , (k,1,n)) for n in range(1,5)]"
   ]
  },
  {
   "cell_type": "markdown",
   "metadata": {},
   "source": [
    " calculer les sommes $\\sum\\limits_{k=1}^n \\frac{1}{k}$  et $\\sum\\limits_{n=1}^{+\\infty} \\left(\\frac{1}{n}\\right)$"
   ]
  },
  {
   "cell_type": "code",
   "execution_count": 53,
   "metadata": {},
   "outputs": [
    {
     "data": {
      "image/png": "[encoded data removed]",
      "text/latex": [
       "$\\displaystyle \\operatorname{harmonic}{\\left(n \\right)}$"
      ],
      "text/plain": [
       "harmonic(n)"
      ]
     },
     "metadata": {},
     "output_type": "display_data"
    },
    {
     "data": {
      "image/png": "[encoded data removed]",
      "text/latex": [
       "$\\displaystyle \\infty$"
      ],
      "text/plain": [
       "∞"
      ]
     },
     "metadata": {},
     "output_type": "display_data"
    }
   ],
   "source": [
    "from sympy import *\n",
    "k,n = symbols('k n')\n",
    "display(summation(1/k, (k, 1, n)))\n",
    "display(summation(1/k, (k, 1, oo)))"
   ]
  },
  {
   "cell_type": "markdown",
   "metadata": {},
   "source": [
    " calculer la somme $\\sum\\limits_{k=0}^n (\\frac{1}{2})^k$ et la somme $\\sum\\limits_{n=0}^{+\\infty} \\left(\\frac{1}{2}\\right)^n$"
   ]
  },
  {
   "cell_type": "code",
   "execution_count": 54,
   "metadata": {},
   "outputs": [
    {
     "data": {
      "image/png": "[encoded data removed]",
      "text/latex": [
       "$\\displaystyle 2 - 2 \\left(\\frac{1}{2}\\right)^{n + 1}$"
      ],
      "text/plain": [
       "       -n - 1\n",
       "2 - 2⋅2      "
      ]
     },
     "metadata": {},
     "output_type": "display_data"
    },
    {
     "data": {
      "image/png": "[encoded data removed]",
      "text/latex": [
       "$\\displaystyle 2$"
      ],
      "text/plain": [
       "2"
      ]
     },
     "metadata": {},
     "output_type": "display_data"
    }
   ],
   "source": [
    "from sympy import *\n",
    "k,n = symbols('k n')\n",
    "display(summation(1/2**k, (k, 0, n)))\n",
    "display(summation(1/2**k, (k, 0, oo)))"
   ]
  },
  {
   "cell_type": "markdown",
   "metadata": {},
   "source": [
    "calculer $\\prod_{k=1}^n \\frac{1}{k}$ et $\\prod_{k=1}^n \\frac{k+1}{k}$ "
   ]
  },
  {
   "cell_type": "code",
   "execution_count": 55,
   "metadata": {},
   "outputs": [
    {
     "data": {
      "image/png": "[encoded data removed]",
      "text/latex": [
       "$\\displaystyle \\frac{1}{n!}$"
      ],
      "text/plain": [
       "1 \n",
       "──\n",
       "n!"
      ]
     },
     "execution_count": 55,
     "metadata": {},
     "output_type": "execute_result"
    }
   ],
   "source": [
    " from sympy import *\n",
    "k,n = symbols('k n')\n",
    "product(1/k, (k, 1, n))"
   ]
  },
  {
   "cell_type": "code",
   "execution_count": 56,
   "metadata": {},
   "outputs": [
    {
     "data": {
      "image/png": "[encoded data removed]",
      "text/latex": [
       "$\\displaystyle \\frac{{2}^{\\left(n\\right)}}{n!}$"
      ],
      "text/plain": [
       "RisingFactorial(2, n)\n",
       "─────────────────────\n",
       "          n!         "
      ]
     },
     "execution_count": 56,
     "metadata": {},
     "output_type": "execute_result"
    }
   ],
   "source": [
    "from sympy import *\n",
    "k,n = symbols('k n')\n",
    "product((k+1)/k, (k, 1, n))"
   ]
  },
  {
   "cell_type": "markdown",
   "metadata": {},
   "source": [
    "# l'équation différentielle "
   ]
  },
  {
   "cell_type": "markdown",
   "metadata": {},
   "source": [
    " soi le probléme de cauchy :\n",
    "\\begin{array}{l}\n",
    "y'=cos(t)y \\\\            \n",
    "y(0)=1\n",
    "\\end{array}\n"
   ]
  },
  {
   "cell_type": "code",
   "execution_count": 59,
   "metadata": {},
   "outputs": [
    {
     "data": {
      "image/png": "[encoded data removed]",
      "text/latex": [
       "$\\displaystyle \\frac{d}{d t} y{\\left(t \\right)} = y{\\left(t \\right)} \\cos{\\left(t \\right)}$"
      ],
      "text/plain": [
       "d                     \n",
       "──(y(t)) = y(t)⋅cos(t)\n",
       "dt                    "
      ]
     },
     "execution_count": 59,
     "metadata": {},
     "output_type": "execute_result"
    }
   ],
   "source": [
    "from sympy import *\n",
    "from sympy import init_printing # pour un bel affichage\n",
    "init_printing()\n",
    "t=Symbol('t')\n",
    "y=Function('y')\n",
    "phi=cos(t)*y(t)\n",
    "edo=Eq(diff(y(t),t),phi)\n",
    "edo"
   ]
  },
  {
   "cell_type": "code",
   "execution_count": 60,
   "metadata": {},
   "outputs": [
    {
     "data": {
      "image/png": "[encoded data removed]",
      "text/latex": [
       "$\\displaystyle y{\\left(t \\right)} = C_{1} e^{\\sin{\\left(t \\right)}}$"
      ],
      "text/plain": [
       "           sin(t)\n",
       "y(t) = C₁⋅ℯ      "
      ]
     },
     "execution_count": 60,
     "metadata": {},
     "output_type": "execute_result"
    }
   ],
   "source": [
    "sol=dsolve(edo,y(t))\n",
    "sol"
   ]
  },
  {
   "cell_type": "code",
   "execution_count": 61,
   "metadata": {},
   "outputs": [
    {
     "data": {
      "image/png": "[encoded data removed]",
      "text/latex": [
       "$\\displaystyle \\left\\{ C_{1} : 1\\right\\}$"
      ],
      "text/plain": [
       "{C₁: 1}"
      ]
     },
     "execution_count": 61,
     "metadata": {},
     "output_type": "execute_result"
    }
   ],
   "source": [
    "y0,t0=1,0 # initialisation des variables y0 et t0\n",
    "const=solve(Eq(y0,sol.rhs.subs(t,t0)), dict=True)[0]\n",
    "const"
   ]
  },
  {
   "cell_type": "code",
   "execution_count": 62,
   "metadata": {},
   "outputs": [
    {
     "data": {
      "image/png": "[encoded data removed]",
      "text/latex": [
       "$\\displaystyle y{\\left(t \\right)} = e^{\\sin{\\left(t \\right)}}$"
      ],
      "text/plain": [
       "        sin(t)\n",
       "y(t) = ℯ      "
      ]
     },
     "execution_count": 62,
     "metadata": {},
     "output_type": "execute_result"
    }
   ],
   "source": [
    " s=sol.subs(const) # remplace C1 par la valeur de const dans la solution sol\n",
    "s"
   ]
  },
  {
   "cell_type": "code",
   "execution_count": 63,
   "metadata": {},
   "outputs": [
    {
     "data": {
      "image/png": "[encoded data removed]",
      "text/plain": [
       "<Figure size 720x504 with 1 Axes>"
      ]
     },
     "metadata": {
      "needs_background": "light"
     },
     "output_type": "display_data"
    }
   ],
   "source": [
    "func = lambdify(t,s.rhs,'numpy')\n",
    "from matplotlib.pylab import *\n",
    "figure(figsize=(10,7)) # specifier la hauteur et la largeur de la figure\n",
    "tt=linspace(0,1,101)\n",
    "yy=func(tt)\n",
    "plot(tt,yy)\n",
    "xlabel('t')\n",
    "ylabel('y')\n",
    "grid() # des lignes et des colonnes"
   ]
  },
  {
   "cell_type": "code",
   "execution_count": 64,
   "metadata": {},
   "outputs": [
    {
     "data": {
      "image/png": "[encoded data removed]",
      "text/plain": [
       "<Figure size 720x504 with 1 Axes>"
      ]
     },
     "metadata": {
      "needs_background": "light"
     },
     "output_type": "display_data"
    }
   ],
   "source": [
    " from matplotlib.pylab import *\n",
    "figure(figsize=(10,7))\n",
    "tt=linspace(0,3,101)\n",
    "yy=func(tt)\n",
    "plot(tt,yy)\n",
    "xlabel('t')\n",
    "ylabel('y')\n",
    "grid()"
   ]
  },
  {
   "cell_type": "markdown",
   "metadata": {},
   "source": [
    "\n",
    "  resoudre l'équation différentielle :  $ (x-1)y'-2y=0$ \n",
    "    \n",
    "  avec y(0)=1"
   ]
  },
  {
   "cell_type": "code",
   "execution_count": 66,
   "metadata": {},
   "outputs": [
    {
     "data": {
      "image/png": "[encoded data removed]",
      "text/latex": [
       "$\\displaystyle \\left(x - 1\\right) \\frac{d}{d x} y{\\left(x \\right)} - 2 y{\\left(x \\right)} = 0$"
      ],
      "text/plain": [
       "        d                    \n",
       "(x - 1)⋅──(y(x)) - 2⋅y(x) = 0\n",
       "        dx                   "
      ]
     },
     "execution_count": 66,
     "metadata": {},
     "output_type": "execute_result"
    }
   ],
   "source": [
    "from sympy import *\n",
    "x=Symbol('x')\n",
    "y=Function('y')\n",
    "eq=Eq((x-1)*diff(y(x),x)-2*y(x))\n",
    "eq"
   ]
  },
  {
   "cell_type": "code",
   "execution_count": 67,
   "metadata": {},
   "outputs": [
    {
     "data": {
      "image/png": "[encoded data removed]",
      "text/latex": [
       "$\\displaystyle y{\\left(x \\right)} = C_{1} \\left(x^{2} - 2 x + 1\\right)$"
      ],
      "text/plain": [
       "          ⎛ 2          ⎞\n",
       "y(x) = C₁⋅⎝x  - 2⋅x + 1⎠"
      ]
     },
     "execution_count": 67,
     "metadata": {},
     "output_type": "execute_result"
    }
   ],
   "source": [
    " g=dsolve(eq,y(x))\n",
    "g"
   ]
  },
  {
   "cell_type": "code",
   "execution_count": 68,
   "metadata": {},
   "outputs": [
    {
     "data": {
      "image/png": "[encoded data removed]",
      "text/latex": [
       "$\\displaystyle \\left\\{ C_{1} : 1\\right\\}$"
      ],
      "text/plain": [
       "{C₁: 1}"
      ]
     },
     "execution_count": 68,
     "metadata": {},
     "output_type": "execute_result"
    }
   ],
   "source": [
    "x0,y0=0,1\n",
    "eq1=(g.rhs).subs(x,x0)-y0\n",
    "S=solve(eq1,dict=True)[0]\n",
    "S"
   ]
  },
  {
   "cell_type": "code",
   "execution_count": 69,
   "metadata": {},
   "outputs": [
    {
     "data": {
      "image/png": "[encoded data removed]",
      "text/latex": [
       "$\\displaystyle y{\\left(x \\right)} = x^{2} - 2 x + 1$"
      ],
      "text/plain": [
       "        2          \n",
       "y(x) = x  - 2⋅x + 1"
      ]
     },
     "execution_count": 69,
     "metadata": {},
     "output_type": "execute_result"
    }
   ],
   "source": [
    " G=g.subs(S)\n",
    "G"
   ]
  },
  {
   "cell_type": "code",
   "execution_count": 70,
   "metadata": {},
   "outputs": [
    {
     "data": {
      "image/png": "[encoded data removed]",
      "text/plain": [
       "<Figure size 720x504 with 1 Axes>"
      ]
     },
     "metadata": {
      "needs_background": "light"
     },
     "output_type": "display_data"
    }
   ],
   "source": [
    "func = lambdify(x,G.rhs,'numpy')\n",
    "from matplotlib.pylab import *\n",
    "figure(figsize=(10,7))\n",
    "tt=linspace(0,3,101)\n",
    "yy=func(tt)\n",
    "plot(tt,yy)\n",
    "xlabel('x')\n",
    "ylabel('y')\n",
    "grid()"
   ]
  },
  {
   "cell_type": "markdown",
   "metadata": {},
   "source": [
    "soit le systeme differentiel suivant :      $\\begin{array}{l}\n",
    "x'(t)=x(t)-2y(t) \\\\            \n",
    "y'(t)--2x(t)+y(t)\n",
    "\\end{array}$"
   ]
  },
  {
   "cell_type": "code",
   "execution_count": 71,
   "metadata": {},
   "outputs": [
    {
     "data": {
      "image/png": "[encoded data removed]",
      "text/latex": [
       "$\\displaystyle \\frac{d}{d t} x{\\left(t \\right)} = x{\\left(t \\right)} - 2 y{\\left(t \\right)}$"
      ],
      "text/plain": [
       "d                       \n",
       "──(x(t)) = x(t) - 2⋅y(t)\n",
       "dt                      "
      ]
     },
     "metadata": {},
     "output_type": "display_data"
    },
    {
     "data": {
      "image/png": "[encoded data removed]",
      "text/latex": [
       "$\\displaystyle \\frac{d}{d t} y{\\left(t \\right)} = - 2 x{\\left(t \\right)} + y{\\left(t \\right)}$"
      ],
      "text/plain": [
       "d                        \n",
       "──(y(t)) = -2⋅x(t) + y(t)\n",
       "dt                       "
      ]
     },
     "metadata": {},
     "output_type": "display_data"
    },
    {
     "data": {
      "image/png": "[encoded data removed]",
      "text/latex": [
       "$\\displaystyle x{\\left(t \\right)} = - 2 C_{1} e^{3 t} - 2 C_{2} e^{- t}$"
      ],
      "text/plain": [
       "               3⋅t         -t\n",
       "x(t) = - 2⋅C₁⋅ℯ    - 2⋅C₂⋅ℯ  "
      ]
     },
     "metadata": {},
     "output_type": "display_data"
    },
    {
     "data": {
      "image/png": "[encoded data removed]",
      "text/latex": [
       "$\\displaystyle y{\\left(t \\right)} = 2 C_{1} e^{3 t} - 2 C_{2} e^{- t}$"
      ],
      "text/plain": [
       "             3⋅t         -t\n",
       "y(t) = 2⋅C₁⋅ℯ    - 2⋅C₂⋅ℯ  "
      ]
     },
     "metadata": {},
     "output_type": "display_data"
    }
   ],
   "source": [
    "from sympy import *\n",
    "t=symbols('t')\n",
    "x = Function('x')\n",
    "y=Function('y')\n",
    "eq1=Eq(diff(x(t),t),x(t)-2*y(t))\n",
    "eq2=Eq(diff(y(t),t),-2*x(t)+y(t))\n",
    "display(eq1,eq2)\n",
    "h1,h2=dsolve([eq1,eq2])\n",
    "display(h1,h2)"
   ]
  },
  {
   "cell_type": "code",
   "execution_count": 72,
   "metadata": {},
   "outputs": [
    {
     "data": {
      "image/png": "[encoded data removed]",
      "text/latex": [
       "$\\displaystyle \\left\\{ C_{1} : \\frac{1}{4}, \\  C_{2} : - \\frac{3}{4}\\right\\}$"
      ],
      "text/plain": [
       "{C₁: 1/4, C₂: -3/4}"
      ]
     },
     "metadata": {},
     "output_type": "display_data"
    },
    {
     "data": {
      "image/png": "[encoded data removed]",
      "text/latex": [
       "$\\displaystyle x{\\left(t \\right)} = - \\frac{e^{3 t}}{2} + \\frac{3 e^{- t}}{2}$"
      ],
      "text/plain": [
       "          3⋅t      -t\n",
       "         ℯ      3⋅ℯ  \n",
       "x(t) = - ──── + ─────\n",
       "          2       2  "
      ]
     },
     "metadata": {},
     "output_type": "display_data"
    },
    {
     "data": {
      "image/png": "[encoded data removed]",
      "text/latex": [
       "$\\displaystyle y{\\left(t \\right)} = \\frac{e^{3 t}}{2} + \\frac{3 e^{- t}}{2}$"
      ],
      "text/plain": [
       "        3⋅t      -t\n",
       "       ℯ      3⋅ℯ  \n",
       "y(t) = ──── + ─────\n",
       "        2       2  "
      ]
     },
     "metadata": {},
     "output_type": "display_data"
    }
   ],
   "source": [
    " t0=0\n",
    "x0=1\n",
    "y0=2\n",
    "init1=h1.rhs.subs(t,t0)-x0\n",
    "init2=h2.rhs.subs(t,t0)-y0\n",
    "C=solve([init1,init2])\n",
    "display(C)\n",
    "S1=h1.subs(C)\n",
    "S2=h2.subs(C)\n",
    "display(S1,S2)"
   ]
  },
  {
   "cell_type": "code",
   "execution_count": 76,
   "metadata": {},
   "outputs": [
    {
     "data": {
      "image/png": "[encoded data removed]",
      "text/plain": [
       "<Figure size 1296x504 with 2 Axes>"
      ]
     },
     "metadata": {
      "needs_background": "light"
     },
     "output_type": "display_data"
    }
   ],
   "source": [
    "func_1 = lambdify(t,S1.rhs,'numpy')\n",
    "func_2 = lambdify(t,S2.rhs,'numpy')\n",
    "from matplotlib.pylab import *\n",
    "figure(figsize=(18,7))\n",
    "tt=linspace(0,3,101)\n",
    "yy_1=func_1(tt)\n",
    "yy_2=func_2(tt)\n",
    "subplot(1,2,1)\n",
    "plot(tt,yy_1,tt,yy_2)\n",
    "legend([r'$y_1$',r'$y_2$'])\n",
    "xlabel(r'$t$')\n",
    "ylabel(r'$y$')\n",
    "subplot(1,2,2)\n",
    "plot(yy_1,yy_2)\n",
    "xlabel(r'$y_1$')\n",
    "ylabel(r'$y_2$');"
   ]
  }
 ],
 "metadata": {
  "kernelspec": {
   "display_name": "Python 3",
   "language": "python",
   "name": "python3"
  },
  "language_info": {
   "codemirror_mode": {
    "name": "ipython",
    "version": 3
   },
   "file_extension": ".py",
   "mimetype": "text/x-python",
   "name": "python",
   "nbconvert_exporter": "python",
   "pygments_lexer": "ipython3",
   "version": "3.7.6"
  }
 },
 "nbformat": 4,
 "nbformat_minor": 4
}
